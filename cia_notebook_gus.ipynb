{
 "cells": [
  {
   "cell_type": "code",
   "execution_count": 1,
   "metadata": {},
   "outputs": [],
   "source": [
    "import pandas as pd\n",
    "import numpy as np\n"
   ]
  },
  {
   "cell_type": "code",
   "execution_count": 3,
   "metadata": {},
   "outputs": [],
   "source": [
    "files = [\"CIA_COUNTRY_EDUCATIONSPEND.csv\",\n",
    "\"CIA_COUNTRY_POPGROWTH.csv\",\n",
    "\"CIA_COUNTRY_LIFEXP.csv\",\n",
    "\"CIA_COUNTRY_MIGRATION.csv\",\n",
    "\"CIA_COUNTRY_GDP.csv\",\n",
    "\"CIA_COUNTRY_GDPGROWTH.csv\",\n",
    "\"CIA_COUNTRY_GDPPERCAP.csv\",\n",
    "\"CIA_COUNTRY_INDUSTPRODGR.csv\",\n",
    "\"CIA_COUNTRY_WORKFORCE.csv\",\n",
    "\"CIA_COUNTRY_UNEMPLOYMENT.csv\",\n",
    "\"CIA_COUNTRY_BUDGET.csv\",\n",
    "\"CIA_COUNTRY_PUBLICDEBT.csv\",\n",
    "\"CIA_COUNTRY_CURACCT.csv\",\n",
    "\"CIA_COUNTRY_EXPORTS.csv\",\n",
    "\"CIA_COUNTRY_IMPORTS.csv\",\n",
    "\"CIA_COUNTRY_DEBTFOREIGNERS.csv\",\n",
    "\"CIA_COUNTRY_AIRPORTS.csv\",\n",
    "\"CIA_COUNTRY_MILITARY_EXPENDITURE.csv\",\n",
    "\"CIA_COUNTRY_RAILWAYS.csv\",\n",
    "\"CIA_COUNTRY_ROADWAYS.csv\",\n",
    "\"CIA_COUNTRY_WATERWAYS.csv\",\n",
    "\"CIA_COUTNRY_MARINE_MERCHANT.csv\",\n",
    "\"cia_country_and_continent.csv\",\n",
    "\"cia_country_electricity_consupmtion.csv\",\n",
    "\"cia_country_emissions.csv\",\n",
    "\"cia_country_fossil_electricity.csv\",\n",
    "\"cia_country_hydro_electricity.csv\",\n",
    "\"cia_country_internet_users.csv\",\n",
    "\"cia_country_natural_gas_consumption.csv\",\n",
    "\"cia_country_nuclear_electricity.csv\",\n",
    "\"cia_country_other_renewable_electricity.csv\",\n",
    "\"cia_country_refined_petroleum_consumption.csv\",\n",
    "\"CIA_COUNTRY_AREA.csv\",\n",
    "\"CIA_COUNTRY_POPULATION.csv\"]"
   ]
  },
  {
   "cell_type": "code",
   "execution_count": null,
   "metadata": {},
   "outputs": [],
   "source": [
    "for file in files:\n",
    "    df_ = pd.read_csv(file)\n"
   ]
  }
 ],
 "metadata": {
  "kernelspec": {
   "display_name": "Python 3",
   "language": "python",
   "name": "python3"
  },
  "language_info": {
   "codemirror_mode": {
    "name": "ipython",
    "version": 3
   },
   "file_extension": ".py",
   "mimetype": "text/x-python",
   "name": "python",
   "nbconvert_exporter": "python",
   "pygments_lexer": "ipython3",
   "version": "3.6.8"
  }
 },
 "nbformat": 4,
 "nbformat_minor": 2
}
