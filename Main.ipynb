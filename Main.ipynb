{
 "cells": [
  {
   "cell_type": "markdown",
   "metadata": {},
   "source": [
    "# Title: Carbon Emissions Observations\n",
    "By: Laura Suchomska, Ravi Malde, Augustin Goudet"
   ]
  },
  {
   "cell_type": "markdown",
   "metadata": {},
   "source": [
    "# I. Package Install Installation"
   ]
  },
  {
   "cell_type": "code",
   "execution_count": 91,
   "metadata": {},
   "outputs": [],
   "source": [
    "import pandas as pd\n",
    "import numpy as np\n",
    "import seaborn as sns\n",
    "import matplotlib.pyplot as plt\n",
    "import statsmodels.api as sm\n",
    "from statsmodels.formula.api import ols\n",
    "import scipy.stats as stats\n",
    "import warnings\n",
    "warnings.filterwarnings(\"ignore\")"
   ]
  },
  {
   "cell_type": "markdown",
   "metadata": {},
   "source": [
    "# II. Data Collection - CIA WorldFactbook"
   ]
  },
  {
   "cell_type": "code",
   "execution_count": 2,
   "metadata": {},
   "outputs": [],
   "source": [
    "#Collating all the potential sources of data from the CIA WorldFactbook\n",
    "\n",
    "files = ['AIRPORTS',\n",
    "'AREA',\n",
    "'BUDGET',\n",
    "'continent',\n",
    "'CURACCT',\n",
    "'DEBTFOREIGNERS',\n",
    "'EDUCATIONSPEND',\n",
    "'electricconsupmtion',\n",
    "'emissions',\n",
    "'EXPORTS',\n",
    "'fossilelectricity',\n",
    "'GDP',\n",
    "'GDPGROWTH',\n",
    "'GDPPERCAP',\n",
    "'hydroelectricity',\n",
    "'IMPORTS',\n",
    "'INDUSTPRODGR',\n",
    "'internetusers',\n",
    "'LIFEXP',\n",
    "'MARMERCHANT',\n",
    "'MIGRATION',\n",
    "'MILIEXPENDITURE',\n",
    "'naturalgasconsumption',\n",
    "'nuclearelectricity',\n",
    "'otherrenewableelectricity',\n",
    "'petroleumconsumption',\n",
    "'POPGROWTH',\n",
    "'POPULATION',\n",
    "'PUBLICDEBT',\n",
    "'RAILWAYS',\n",
    "'ROADWAYS',\n",
    "'UNEMPLOYMENT',\n",
    "'WATERWAYS',\n",
    "'WORKFORCE']"
   ]
  },
  {
   "cell_type": "code",
   "execution_count": 3,
   "metadata": {},
   "outputs": [],
   "source": [
    "#storing all the csv in a dictionary\n",
    "\n",
    "pd_dict = {}\n",
    "for file in files:\n",
    "    pd_dict[file] = pd.read_csv('{}.csv'.format(file))"
   ]
  },
  {
   "cell_type": "code",
   "execution_count": 4,
   "metadata": {},
   "outputs": [],
   "source": [
    "#Creating the dataframes from the dictionary\n",
    "\n",
    "base_df = pd_dict['continent']\n",
    "area_df = pd_dict['AREA']\n",
    "petrol_df = pd_dict['petroleumconsumption']\n",
    "users_df = pd_dict['internetusers']\n",
    "hydro_df = pd_dict['hydroelectricity']\n",
    "nuclear_df = pd_dict['nuclearelectricity']\n",
    "otherrenew_df = pd_dict['otherrenewableelectricity']\n",
    "mili_df = pd_dict['MILIEXPENDITURE']\n",
    "co2_df = pd_dict['emissions']\n",
    "pop_df = pd_dict['POPULATION']"
   ]
  },
  {
   "cell_type": "markdown",
   "metadata": {},
   "source": [
    "# III. Data Transformation "
   ]
  },
  {
   "cell_type": "code",
   "execution_count": 5,
   "metadata": {},
   "outputs": [],
   "source": [
    "#Standardization of country names to merge\n",
    "for i, row in base_df.iterrows():\n",
    "    row['country_name'] = row['country_name'].split(\",\")\n",
    "    row ['country_name'] = row['country_name'][0]"
   ]
  },
  {
   "cell_type": "code",
   "execution_count": 11,
   "metadata": {},
   "outputs": [],
   "source": [
    "#Renaming columns to facilitate merge\n",
    "mili_df.rename(columns = {\"% OF GDP\": \"mili_exp_gdp\"}, inplace = True)\n",
    "base_df.rename(columns = {'country_name':'Country'}, inplace = True)\n"
   ]
  },
  {
   "cell_type": "code",
   "execution_count": 12,
   "metadata": {},
   "outputs": [
    {
     "data": {
      "text/html": [
       "<div>\n",
       "<style scoped>\n",
       "    .dataframe tbody tr th:only-of-type {\n",
       "        vertical-align: middle;\n",
       "    }\n",
       "\n",
       "    .dataframe tbody tr th {\n",
       "        vertical-align: top;\n",
       "    }\n",
       "\n",
       "    .dataframe thead th {\n",
       "        text-align: right;\n",
       "    }\n",
       "</style>\n",
       "<table border=\"1\" class=\"dataframe\">\n",
       "  <thead>\n",
       "    <tr style=\"text-align: right;\">\n",
       "      <th></th>\n",
       "      <th>continent_name</th>\n",
       "      <th>Country</th>\n",
       "    </tr>\n",
       "  </thead>\n",
       "  <tbody>\n",
       "    <tr>\n",
       "      <th>0</th>\n",
       "      <td>Asia</td>\n",
       "      <td>Afghanistan</td>\n",
       "    </tr>\n",
       "  </tbody>\n",
       "</table>\n",
       "</div>"
      ],
      "text/plain": [
       "  continent_name      Country\n",
       "0           Asia  Afghanistan"
      ]
     },
     "execution_count": 12,
     "metadata": {},
     "output_type": "execute_result"
    }
   ],
   "source": [
    "#Merging base dataframe to bring in continent_name and country fields together\n",
    "base_df.merge(area_df, on = 'Country', how = 'left')\n",
    "base_df.head(n=1)"
   ]
  },
  {
   "cell_type": "code",
   "execution_count": 13,
   "metadata": {},
   "outputs": [
    {
     "data": {
      "text/html": [
       "<div>\n",
       "<style scoped>\n",
       "    .dataframe tbody tr th:only-of-type {\n",
       "        vertical-align: middle;\n",
       "    }\n",
       "\n",
       "    .dataframe tbody tr th {\n",
       "        vertical-align: top;\n",
       "    }\n",
       "\n",
       "    .dataframe thead th {\n",
       "        text-align: right;\n",
       "    }\n",
       "</style>\n",
       "<table border=\"1\" class=\"dataframe\">\n",
       "  <thead>\n",
       "    <tr style=\"text-align: right;\">\n",
       "      <th></th>\n",
       "      <th>continent_name</th>\n",
       "      <th>country</th>\n",
       "      <th>Index_x</th>\n",
       "      <th>Area_sqKm</th>\n",
       "      <th>Unnamed: 0_x</th>\n",
       "      <th>refined_petroleum_consumption_barrels_per_day</th>\n",
       "      <th>year_x</th>\n",
       "      <th>Unnamed: 4_x</th>\n",
       "      <th>Unnamed: 0_y</th>\n",
       "      <th>number_of_internet_users</th>\n",
       "      <th>...</th>\n",
       "      <th>Unnamed: 4_x</th>\n",
       "      <th>Unnamed: 0</th>\n",
       "      <th>year</th>\n",
       "      <th>carbon_emissions_from_energy_consumption_MT</th>\n",
       "      <th>Unnamed: 4_y</th>\n",
       "      <th>Index_y</th>\n",
       "      <th>Population</th>\n",
       "      <th>Month</th>\n",
       "      <th>Year</th>\n",
       "      <th>Unnamed: 5</th>\n",
       "    </tr>\n",
       "  </thead>\n",
       "  <tbody>\n",
       "    <tr>\n",
       "      <th>0</th>\n",
       "      <td>Asia</td>\n",
       "      <td>Afghanistan</td>\n",
       "      <td>42.0</td>\n",
       "      <td>652,230.00</td>\n",
       "      <td>117.0</td>\n",
       "      <td>35,000</td>\n",
       "      <td>2016.0</td>\n",
       "      <td>est.</td>\n",
       "      <td>NaN</td>\n",
       "      <td>NaN</td>\n",
       "      <td>...</td>\n",
       "      <td>NaN</td>\n",
       "      <td>111.0</td>\n",
       "      <td>2017.0</td>\n",
       "      <td>9,067,000.00</td>\n",
       "      <td>est.</td>\n",
       "      <td>39.0</td>\n",
       "      <td>36,643,815</td>\n",
       "      <td>July</td>\n",
       "      <td>2020</td>\n",
       "      <td>est.</td>\n",
       "    </tr>\n",
       "    <tr>\n",
       "      <th>1</th>\n",
       "      <td>Europe</td>\n",
       "      <td>Albania</td>\n",
       "      <td>145.0</td>\n",
       "      <td>28,748.00</td>\n",
       "      <td>120.0</td>\n",
       "      <td>29,000</td>\n",
       "      <td>2016.0</td>\n",
       "      <td>est.</td>\n",
       "      <td>111.0</td>\n",
       "      <td>2,016,516</td>\n",
       "      <td>...</td>\n",
       "      <td>est.</td>\n",
       "      <td>136.0</td>\n",
       "      <td>2017.0</td>\n",
       "      <td>4,500,000.00</td>\n",
       "      <td>est.</td>\n",
       "      <td>136.0</td>\n",
       "      <td>3,074,579</td>\n",
       "      <td>July</td>\n",
       "      <td>2020</td>\n",
       "      <td>est.</td>\n",
       "    </tr>\n",
       "  </tbody>\n",
       "</table>\n",
       "<p>2 rows × 36 columns</p>\n",
       "</div>"
      ],
      "text/plain": [
       "  continent_name      country  Index_x   Area_sqKm  Unnamed: 0_x  \\\n",
       "0           Asia  Afghanistan     42.0  652,230.00         117.0   \n",
       "1         Europe      Albania    145.0   28,748.00         120.0   \n",
       "\n",
       "  refined_petroleum_consumption_barrels_per_day  year_x Unnamed: 4_x  \\\n",
       "0                                        35,000  2016.0         est.   \n",
       "1                                        29,000  2016.0         est.   \n",
       "\n",
       "   Unnamed: 0_y number_of_internet_users  ... Unnamed: 4_x  Unnamed: 0  \\\n",
       "0           NaN                      NaN  ...          NaN       111.0   \n",
       "1         111.0                2,016,516  ...         est.       136.0   \n",
       "\n",
       "     year  carbon_emissions_from_energy_consumption_MT Unnamed: 4_y  Index_y  \\\n",
       "0  2017.0                                 9,067,000.00         est.     39.0   \n",
       "1  2017.0                                 4,500,000.00         est.    136.0   \n",
       "\n",
       "   Population  Month  Year  Unnamed: 5  \n",
       "0  36,643,815   July  2020        est.  \n",
       "1   3,074,579   July  2020        est.  \n",
       "\n",
       "[2 rows x 36 columns]"
      ]
     },
     "execution_count": 13,
     "metadata": {},
     "output_type": "execute_result"
    }
   ],
   "source": [
    "#Merging relevant country attributes to create a single dataframe to work on\n",
    "\n",
    "df1 = base_df.merge(area_df, on = 'Country', how = 'left')\n",
    "df1.rename(columns = {'Country':'country'}, inplace = True)\n",
    "df2 = df1.merge(petrol_df, on = 'country', how = 'outer')\n",
    "df3 = df2.merge(users_df, on = 'country', how = 'outer')\n",
    "df4 = df3.merge(hydro_df, on = 'country', how = 'outer')\n",
    "df5 = df4.merge(nuclear_df, on = 'country', how = 'outer')\n",
    "df6 = df5.merge(otherrenew_df, on = 'country', how = 'outer')\n",
    "mili_df.rename(columns = {'COUNTRY':'country'}, inplace = True)\n",
    "df7 = df6.merge(mili_df, on = 'country', how = 'outer')\n",
    "df8 = df7.merge(co2_df, on = 'country', how = 'outer')\n",
    "pop_df.rename(columns = {'Country':'country'}, inplace = True)\n",
    "df9 = df8.merge(pop_df, on = 'country', how = 'outer')\n",
    "df9.head(n=2)\n"
   ]
  },
  {
   "cell_type": "code",
   "execution_count": 16,
   "metadata": {},
   "outputs": [
    {
     "data": {
      "text/html": [
       "<div>\n",
       "<style scoped>\n",
       "    .dataframe tbody tr th:only-of-type {\n",
       "        vertical-align: middle;\n",
       "    }\n",
       "\n",
       "    .dataframe tbody tr th {\n",
       "        vertical-align: top;\n",
       "    }\n",
       "\n",
       "    .dataframe thead th {\n",
       "        text-align: right;\n",
       "    }\n",
       "</style>\n",
       "<table border=\"1\" class=\"dataframe\">\n",
       "  <thead>\n",
       "    <tr style=\"text-align: right;\">\n",
       "      <th></th>\n",
       "      <th>continent_name</th>\n",
       "      <th>country</th>\n",
       "      <th>Area_sqKm</th>\n",
       "      <th>refined_petroleum_consumption_barrels_per_day</th>\n",
       "      <th>number_of_internet_users</th>\n",
       "      <th>hydro_percentage_of_electricity_production</th>\n",
       "      <th>nuclear_percentage_of_electricity_production</th>\n",
       "      <th>other_renewable_percentage_of_electricity_production</th>\n",
       "      <th>mili_exp_gdp</th>\n",
       "      <th>carbon_emissions_from_energy_consumption_MT</th>\n",
       "      <th>Population</th>\n",
       "    </tr>\n",
       "  </thead>\n",
       "  <tbody>\n",
       "    <tr>\n",
       "      <th>169</th>\n",
       "      <td>Oceania</td>\n",
       "      <td>Micronesia</td>\n",
       "      <td>NaN</td>\n",
       "      <td>NaN</td>\n",
       "      <td>NaN</td>\n",
       "      <td>NaN</td>\n",
       "      <td>NaN</td>\n",
       "      <td>NaN</td>\n",
       "      <td>NaN</td>\n",
       "      <td>NaN</td>\n",
       "      <td>NaN</td>\n",
       "    </tr>\n",
       "    <tr>\n",
       "      <th>60</th>\n",
       "      <td>Europe</td>\n",
       "      <td>Denmark</td>\n",
       "      <td>43,094.00</td>\n",
       "      <td>158,500</td>\n",
       "      <td>5,424,169</td>\n",
       "      <td>0.0</td>\n",
       "      <td>0.0</td>\n",
       "      <td>54.0</td>\n",
       "      <td>1.32</td>\n",
       "      <td>37,450,000.00</td>\n",
       "      <td>5,869,410</td>\n",
       "    </tr>\n",
       "  </tbody>\n",
       "</table>\n",
       "</div>"
      ],
      "text/plain": [
       "    continent_name     country  Area_sqKm  \\\n",
       "169        Oceania  Micronesia        NaN   \n",
       "60          Europe     Denmark  43,094.00   \n",
       "\n",
       "    refined_petroleum_consumption_barrels_per_day number_of_internet_users  \\\n",
       "169                                           NaN                      NaN   \n",
       "60                                        158,500                5,424,169   \n",
       "\n",
       "     hydro_percentage_of_electricity_production  \\\n",
       "169                                         NaN   \n",
       "60                                          0.0   \n",
       "\n",
       "     nuclear_percentage_of_electricity_production  \\\n",
       "169                                           NaN   \n",
       "60                                            0.0   \n",
       "\n",
       "     other_renewable_percentage_of_electricity_production  mili_exp_gdp  \\\n",
       "169                                                NaN              NaN   \n",
       "60                                                54.0             1.32   \n",
       "\n",
       "    carbon_emissions_from_energy_consumption_MT Population  \n",
       "169                                         NaN        NaN  \n",
       "60                                37,450,000.00  5,869,410  "
      ]
     },
     "execution_count": 16,
     "metadata": {},
     "output_type": "execute_result"
    }
   ],
   "source": [
    "#Creating our main DataFrame with relevant country attributes\n",
    "\n",
    "final_df = df9[['continent_name','country','Area_sqKm','refined_petroleum_consumption_barrels_per_day','number_of_internet_users', 'hydro_percentage_of_electricity_production','nuclear_percentage_of_electricity_production', 'other_renewable_percentage_of_electricity_production',\"mili_exp_gdp\",\"carbon_emissions_from_energy_consumption_MT\",\"Population\"]].copy()\n",
    "final_df.sample(n=2)"
   ]
  },
  {
   "cell_type": "code",
   "execution_count": 17,
   "metadata": {},
   "outputs": [
    {
     "name": "stdout",
     "output_type": "stream",
     "text": [
      "<class 'pandas.core.frame.DataFrame'>\n",
      "Int64Index: 283 entries, 0 to 282\n",
      "Data columns (total 11 columns):\n",
      "continent_name                                          257 non-null object\n",
      "country                                                 283 non-null object\n",
      "Area_sqKm                                               222 non-null object\n",
      "refined_petroleum_consumption_barrels_per_day           221 non-null object\n",
      "number_of_internet_users                                232 non-null object\n",
      "hydro_percentage_of_electricity_production              221 non-null float64\n",
      "nuclear_percentage_of_electricity_production            221 non-null float64\n",
      "other_renewable_percentage_of_electricity_production    220 non-null float64\n",
      "mili_exp_gdp                                            164 non-null float64\n",
      "carbon_emissions_from_energy_consumption_MT             220 non-null object\n",
      "Population                                              244 non-null object\n",
      "dtypes: float64(4), object(7)\n",
      "memory usage: 26.5+ KB\n"
     ]
    }
   ],
   "source": [
    "#Checking for data point format / change objects to floats for numerical variables\n",
    "final_df.info()"
   ]
  },
  {
   "cell_type": "code",
   "execution_count": 35,
   "metadata": {},
   "outputs": [],
   "source": [
    "# Removing commas from numbers to transform objects into floats\n",
    "\n",
    "final_df['Area_sqKm'] = final_df['Area_sqKm'].str.replace(',', '')\n",
    "final_df['refined_petroleum_consumption_barrels_per_day'] = final_df['refined_petroleum_consumption_barrels_per_day'].str.replace(',', '')\n",
    "final_df['number_of_internet_users'] = final_df['number_of_internet_users'].str.replace(',', '')\n",
    "final_df['carbon_emissions_from_energy_consumption_MT'] = final_df['carbon_emissions_from_energy_consumption_MT'].str.replace(',', '')\n"
   ]
  },
  {
   "cell_type": "code",
   "execution_count": 38,
   "metadata": {},
   "outputs": [],
   "source": [
    "#Conversion of objects to floats\n",
    "\n",
    "final_df['Area_sqKm'] = final_df['Area_sqKm'].astype(float)\n",
    "final_df['refined_petroleum_consumption_barrels_per_day'] = final_df['refined_petroleum_consumption_barrels_per_day'].astype(float)\n",
    "final_df['number_of_internet_users'] = final_df['number_of_internet_users'].astype(float)\n",
    "final_df['carbon_emissions_from_energy_consumption_MT'] = final_df['carbon_emissions_from_energy_consumption_MT'].astype(float)\n",
    "\n"
   ]
  },
  {
   "cell_type": "markdown",
   "metadata": {},
   "source": [
    "# IV. Null Values Treatment"
   ]
  },
  {
   "cell_type": "code",
   "execution_count": 40,
   "metadata": {},
   "outputs": [],
   "source": [
    "#Checking for null values\n",
    "\n",
    "final_df.isnull().sum()"
   ]
  },
  {
   "cell_type": "code",
   "execution_count": 42,
   "metadata": {},
   "outputs": [],
   "source": [
    "#Treatment for null values - dropping erroneous names / Nan Area points\n",
    "final_df.dropna(subset=['continent_name', \"Area_sqKm\", \"refined_petroleum_consumption_barrels_per_day\"], inplace = True)\n"
   ]
  },
  {
   "cell_type": "code",
   "execution_count": 53,
   "metadata": {},
   "outputs": [],
   "source": [
    "#Treatment for null values - adding mili expenditures median for two countries / fill with 0 for remainder\n",
    "\n",
    "median_exp = final_df['mili_exp_gdp'].median()\n",
    "armed_countries = ['Syria','Qatar']\n",
    "\n",
    "rows_to_change = list(final_df[(final_df['mili_exp_gdp'].isnull()) &\n",
    "         (final_df.country.isin(armed_countries))].index)\n",
    "\n",
    "final_df.loc[rows_to_change,'mili_exp_gdp'] = median_exp\n",
    "final_df[final_df.country.isin(armed_countries)]\n",
    "\n",
    "final_df['mili_exp_gdp'].fillna(0,inplace = True )"
   ]
  },
  {
   "cell_type": "code",
   "execution_count": 54,
   "metadata": {
    "scrolled": true
   },
   "outputs": [
    {
     "data": {
      "text/plain": [
       "continent_name                                          0\n",
       "country                                                 0\n",
       "Area_sqKm                                               0\n",
       "refined_petroleum_consumption_barrels_per_day           0\n",
       "number_of_internet_users                                0\n",
       "hydro_percentage_of_electricity_production              0\n",
       "nuclear_percentage_of_electricity_production            0\n",
       "other_renewable_percentage_of_electricity_production    0\n",
       "mili_exp_gdp                                            0\n",
       "carbon_emissions_from_energy_consumption_MT             0\n",
       "Population                                              0\n",
       "mili_exp_%_gdp                                          0\n",
       "dtype: int64"
      ]
     },
     "execution_count": 54,
     "metadata": {},
     "output_type": "execute_result"
    }
   ],
   "source": [
    "##Treatment for null values - adding internet users median for two countries / fill with 0 for remainder\n",
    "\n",
    "median_int = final_df['number_of_internet_users'].median()\n",
    "internet_users = ['Afghanistan','South Sudan']\n",
    "\n",
    "int_rows_to_change = list(final_df[(final_df['number_of_internet_users'].isnull()) &\n",
    "         (final_df.country.isin(internet_users))].index)\n",
    "\n",
    "final_df.loc[int_rows_to_change,'number_of_internet_users'] = median_int\n",
    "final_df[final_df.country.isin(internet_users)]\n",
    "\n",
    "final_df['number_of_internet_users'].fillna(0,inplace = True )\n",
    "\n",
    "final_df.isnull().sum()"
   ]
  },
  {
   "cell_type": "markdown",
   "metadata": {},
   "source": [
    "# VI. Exploratory Data Analysis"
   ]
  },
  {
   "cell_type": "code",
   "execution_count": 56,
   "metadata": {},
   "outputs": [],
   "source": [
    "#Crombining non-fossil electricity fields / proxy for renewable source\n",
    "\n",
    "final_df['non_fossil_electricity'] = final_df['hydro_percentage_of_electricity_production'] + final_df['nuclear_percentage_of_electricity_production'] + final_df['other_renewable_percentage_of_electricity_production']\n"
   ]
  },
  {
   "cell_type": "code",
   "execution_count": 66,
   "metadata": {},
   "outputs": [
    {
     "data": {
      "text/html": [
       "<style  type=\"text/css\" >\n",
       "</style><table id=\"T_d1be3490_4e6b_11ea_a5d5_a0999b19a4f3\" ><thead>    <tr>        <th class=\"blank level0\" ></th>        <th class=\"col_heading level0 col0\" >continent_name</th>        <th class=\"col_heading level0 col1\" >carbon_emissions_from_energy_consumption_MT</th>        <th class=\"col_heading level0 col2\" >mili_exp_gdp</th>        <th class=\"col_heading level0 col3\" >non_fossil_electricity</th>        <th class=\"col_heading level0 col4\" >number_of_internet_users</th>        <th class=\"col_heading level0 col5\" >refined_petroleum_consumption_barrels_per_day</th>    </tr></thead><tbody>\n",
       "                <tr>\n",
       "                        <th id=\"T_d1be3490_4e6b_11ea_a5d5_a0999b19a4f3level0_row0\" class=\"row_heading level0 row0\" >0</th>\n",
       "                        <td id=\"T_d1be3490_4e6b_11ea_a5d5_a0999b19a4f3row0_col0\" class=\"data row0 col0\" >AFRICA</td>\n",
       "                        <td id=\"T_d1be3490_4e6b_11ea_a5d5_a0999b19a4f3row0_col1\" class=\"data row0 col1\" >          27,374,741</td>\n",
       "                        <td id=\"T_d1be3490_4e6b_11ea_a5d5_a0999b19a4f3row0_col2\" class=\"data row0 col2\" >1.43%</td>\n",
       "                        <td id=\"T_d1be3490_4e6b_11ea_a5d5_a0999b19a4f3row0_col3\" class=\"data row0 col3\" >37.33%</td>\n",
       "                        <td id=\"T_d1be3490_4e6b_11ea_a5d5_a0999b19a4f3row0_col4\" class=\"data row0 col4\" >           5,868,278</td>\n",
       "                        <td id=\"T_d1be3490_4e6b_11ea_a5d5_a0999b19a4f3row0_col5\" class=\"data row0 col5\" >              77,448</td>\n",
       "            </tr>\n",
       "            <tr>\n",
       "                        <th id=\"T_d1be3490_4e6b_11ea_a5d5_a0999b19a4f3level0_row1\" class=\"row_heading level0 row1\" >1</th>\n",
       "                        <td id=\"T_d1be3490_4e6b_11ea_a5d5_a0999b19a4f3row1_col0\" class=\"data row1 col0\" >ASIA</td>\n",
       "                        <td id=\"T_d1be3490_4e6b_11ea_a5d5_a0999b19a4f3row1_col1\" class=\"data row1 col1\" >         466,522,251</td>\n",
       "                        <td id=\"T_d1be3490_4e6b_11ea_a5d5_a0999b19a4f3row1_col2\" class=\"data row1 col2\" >2.50%</td>\n",
       "                        <td id=\"T_d1be3490_4e6b_11ea_a5d5_a0999b19a4f3row1_col3\" class=\"data row1 col3\" >27.96%</td>\n",
       "                        <td id=\"T_d1be3490_4e6b_11ea_a5d5_a0999b19a4f3row1_col4\" class=\"data row1 col4\" >          39,905,819</td>\n",
       "                        <td id=\"T_d1be3490_4e6b_11ea_a5d5_a0999b19a4f3row1_col5\" class=\"data row1 col5\" >             873,358</td>\n",
       "            </tr>\n",
       "            <tr>\n",
       "                        <th id=\"T_d1be3490_4e6b_11ea_a5d5_a0999b19a4f3level0_row2\" class=\"row_heading level0 row2\" >2</th>\n",
       "                        <td id=\"T_d1be3490_4e6b_11ea_a5d5_a0999b19a4f3row2_col0\" class=\"data row2 col0\" >EUROPE</td>\n",
       "                        <td id=\"T_d1be3490_4e6b_11ea_a5d5_a0999b19a4f3row2_col1\" class=\"data row2 col1\" >         145,304,857</td>\n",
       "                        <td id=\"T_d1be3490_4e6b_11ea_a5d5_a0999b19a4f3row2_col2\" class=\"data row2 col2\" >1.55%</td>\n",
       "                        <td id=\"T_d1be3490_4e6b_11ea_a5d5_a0999b19a4f3row2_col3\" class=\"data row2 col3\" >49.60%</td>\n",
       "                        <td id=\"T_d1be3490_4e6b_11ea_a5d5_a0999b19a4f3row2_col4\" class=\"data row2 col4\" >          13,921,629</td>\n",
       "                        <td id=\"T_d1be3490_4e6b_11ea_a5d5_a0999b19a4f3row2_col5\" class=\"data row2 col5\" >             415,173</td>\n",
       "            </tr>\n",
       "            <tr>\n",
       "                        <th id=\"T_d1be3490_4e6b_11ea_a5d5_a0999b19a4f3level0_row3\" class=\"row_heading level0 row3\" >3</th>\n",
       "                        <td id=\"T_d1be3490_4e6b_11ea_a5d5_a0999b19a4f3row3_col0\" class=\"data row3 col0\" >NORTH AMERICA</td>\n",
       "                        <td id=\"T_d1be3490_4e6b_11ea_a5d5_a0999b19a4f3row3_col1\" class=\"data row3 col1\" >         211,292,993</td>\n",
       "                        <td id=\"T_d1be3490_4e6b_11ea_a5d5_a0999b19a4f3row3_col2\" class=\"data row3 col2\" >0.52%</td>\n",
       "                        <td id=\"T_d1be3490_4e6b_11ea_a5d5_a0999b19a4f3row3_col3\" class=\"data row3 col3\" >24.23%</td>\n",
       "                        <td id=\"T_d1be3490_4e6b_11ea_a5d5_a0999b19a4f3row3_col4\" class=\"data row3 col4\" >          12,467,495</td>\n",
       "                        <td id=\"T_d1be3490_4e6b_11ea_a5d5_a0999b19a4f3row3_col5\" class=\"data row3 col5\" >             820,406</td>\n",
       "            </tr>\n",
       "            <tr>\n",
       "                        <th id=\"T_d1be3490_4e6b_11ea_a5d5_a0999b19a4f3level0_row4\" class=\"row_heading level0 row4\" >4</th>\n",
       "                        <td id=\"T_d1be3490_4e6b_11ea_a5d5_a0999b19a4f3row4_col0\" class=\"data row4 col0\" >OCEANIA</td>\n",
       "                        <td id=\"T_d1be3490_4e6b_11ea_a5d5_a0999b19a4f3row4_col1\" class=\"data row4 col1\" >          29,204,432</td>\n",
       "                        <td id=\"T_d1be3490_4e6b_11ea_a5d5_a0999b19a4f3row4_col2\" class=\"data row4 col2\" >0.25%</td>\n",
       "                        <td id=\"T_d1be3490_4e6b_11ea_a5d5_a0999b19a4f3row4_col3\" class=\"data row4 col3\" >27.59%</td>\n",
       "                        <td id=\"T_d1be3490_4e6b_11ea_a5d5_a0999b19a4f3row4_col4\" class=\"data row4 col4\" >           1,538,164</td>\n",
       "                        <td id=\"T_d1be3490_4e6b_11ea_a5d5_a0999b19a4f3row4_col5\" class=\"data row4 col5\" >              85,270</td>\n",
       "            </tr>\n",
       "            <tr>\n",
       "                        <th id=\"T_d1be3490_4e6b_11ea_a5d5_a0999b19a4f3level0_row5\" class=\"row_heading level0 row5\" >5</th>\n",
       "                        <td id=\"T_d1be3490_4e6b_11ea_a5d5_a0999b19a4f3row5_col0\" class=\"data row5 col0\" >SOUTH AMERICA</td>\n",
       "                        <td id=\"T_d1be3490_4e6b_11ea_a5d5_a0999b19a4f3row5_col1\" class=\"data row5 col1\" >          96,821,667</td>\n",
       "                        <td id=\"T_d1be3490_4e6b_11ea_a5d5_a0999b19a4f3row5_col2\" class=\"data row5 col2\" >1.49%</td>\n",
       "                        <td id=\"T_d1be3490_4e6b_11ea_a5d5_a0999b19a4f3row5_col3\" class=\"data row5 col3\" >51.42%</td>\n",
       "                        <td id=\"T_d1be3490_4e6b_11ea_a5d5_a0999b19a4f3row5_col4\" class=\"data row5 col4\" >          20,381,686</td>\n",
       "                        <td id=\"T_d1be3490_4e6b_11ea_a5d5_a0999b19a4f3row5_col5\" class=\"data row5 col5\" >             485,792</td>\n",
       "            </tr>\n",
       "    </tbody></table>"
      ],
      "text/plain": [
       "<pandas.io.formats.style.Styler at 0x1c1a2f70f0>"
      ]
     },
     "execution_count": 66,
     "metadata": {},
     "output_type": "execute_result"
    }
   ],
   "source": [
    "#Creating a continent view to get mean values per continent\n",
    "\n",
    "continent_df = final_df.pivot_table(index = 'continent_name', values = ['refined_petroleum_consumption_barrels_per_day', \n",
    "                                                         'number_of_internet_users','non_fossil_electricity' \n",
    "                                                         ,'carbon_emissions_from_energy_consumption_MT',\"mili_exp_gdp\"], aggfunc = np.mean)\n",
    "\n",
    "\n",
    "\n",
    "continent_df.reset_index(inplace = True)\n",
    "\n",
    "#Styling DataFrame using styler\n",
    "\n",
    "continent_df['mili_exp_gdp'] = continent_df['mili_exp_gdp'].div(100).round(4)\n",
    "continent_df['non_fossil_electricity'] = continent_df['non_fossil_electricity'].div(100).round(4)\n",
    "\n",
    "\n",
    "cdf = continent_df.style.format({'continent_name': str.upper,\n",
    "                           'carbon_emissions_from_energy_consumption_MT': '{:20,.0f}',\"mili_exp_gdp\":'{:.2%}',\n",
    "                          \"number_of_internet_users\":'{:20,.0f}', \"refined_petroleum_consumption_barrels_per_day\":'{:20,.0f}',\"non_fossil_electricity\":'{:.2%}'})\n",
    "\n",
    "cdf"
   ]
  },
  {
   "cell_type": "markdown",
   "metadata": {},
   "source": [
    "# VII. Evaluating Residual Distribution"
   ]
  },
  {
   "cell_type": "code",
   "execution_count": 85,
   "metadata": {
    "scrolled": true
   },
   "outputs": [
    {
     "data": {
      "image/png": "[encoded data removed]",
      "text/plain": [
       "<Figure size 432x288 with 1 Axes>"
      ]
     },
     "metadata": {
      "needs_background": "light"
     },
     "output_type": "display_data"
    }
   ],
   "source": [
    "co2_model = ols(\"carbon_emissions_from_energy_consumption_MT ~ C(continent_name)\", data=final_df).fit()\n",
    "residuals = co2_model.resid\n",
    "fig = sm.graphics.qqplot(residuals, dist=stats.norm, line='45', fit=True)\n",
    "fig.show()"
   ]
  },
  {
   "cell_type": "code",
   "execution_count": 92,
   "metadata": {},
   "outputs": [
    {
     "data": {
      "image/png": "[encoded data removed]",
      "text/plain": [
       "<Figure size 432x288 with 1 Axes>"
      ]
     },
     "metadata": {
      "needs_background": "light"
     },
     "output_type": "display_data"
    }
   ],
   "source": [
    "mili_model = ols(\"mili_exp_gdp ~ C(continent_name)\", data=final_df).fit()\n",
    "residuals = mili_model.resid\n",
    "fig = sm.graphics.qqplot(residuals, dist=stats.norm, line='45', fit=True)\n",
    "fig.show()"
   ]
  },
  {
   "cell_type": "code",
   "execution_count": 93,
   "metadata": {},
   "outputs": [
    {
     "data": {
      "image/png": "[encoded data removed]",
      "text/plain": [
       "<Figure size 432x288 with 1 Axes>"
      ]
     },
     "metadata": {
      "needs_background": "light"
     },
     "output_type": "display_data"
    }
   ],
   "source": [
    "ele_model = ols(\"non_fossil_electricity ~ C(continent_name)\", data=final_df).fit()\n",
    "residuals = ele_model.resid\n",
    "fig = sm.graphics.qqplot(residuals, dist=stats.norm, line='45', fit=True)\n",
    "fig.show()"
   ]
  },
  {
   "cell_type": "code",
   "execution_count": 94,
   "metadata": {},
   "outputs": [
    {
     "data": {
      "image/png": "[encoded data removed]",
      "text/plain": [
       "<Figure size 432x288 with 1 Axes>"
      ]
     },
     "metadata": {
      "needs_background": "light"
     },
     "output_type": "display_data"
    }
   ],
   "source": [
    "int_model = ols(\"number_of_internet_users ~ C(continent_name)\", data=final_df).fit()\n",
    "residuals = int_model.resid\n",
    "fig = sm.graphics.qqplot(residuals, dist=stats.norm, line='45', fit=True)\n",
    "fig.show()"
   ]
  },
  {
   "cell_type": "code",
   "execution_count": 95,
   "metadata": {},
   "outputs": [
    {
     "data": {
      "image/png": "[encoded data removed]",
      "text/plain": [
       "<Figure size 432x288 with 1 Axes>"
      ]
     },
     "metadata": {
      "needs_background": "light"
     },
     "output_type": "display_data"
    }
   ],
   "source": [
    "petrol_model = ols(\"refined_petroleum_consumption_barrels_per_day ~ C(continent_name)\", data=final_df).fit()\n",
    "residuals = petrol_model.resid\n",
    "fig = sm.graphics.qqplot(residuals, dist=stats.norm, line='45', fit=True)\n",
    "fig.show()"
   ]
  },
  {
   "cell_type": "code",
   "execution_count": null,
   "metadata": {},
   "outputs": [],
   "source": []
  }
 ],
 "metadata": {
  "kernelspec": {
   "display_name": "Python 3",
   "language": "python",
   "name": "python3"
  },
  "language_info": {
   "codemirror_mode": {
    "name": "ipython",
    "version": 3
   },
   "file_extension": ".py",
   "mimetype": "text/x-python",
   "name": "python",
   "nbconvert_exporter": "python",
   "pygments_lexer": "ipython3",
   "version": "3.6.8"
  }
 },
 "nbformat": 4,
 "nbformat_minor": 2
}
