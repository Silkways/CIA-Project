{
 "cells": [
  {
   "cell_type": "markdown",
   "metadata": {},
   "source": [
    "# Title: Carbon Emissions Observations\n",
    "By: Laura Suchomska, Ravi Malde, Augustin Goudet"
   ]
  },
  {
   "cell_type": "markdown",
   "metadata": {},
   "source": [
    "# I. Package Install"
   ]
  },
  {
   "cell_type": "code",
   "execution_count": 2,
   "metadata": {},
   "outputs": [],
   "source": [
    "import pandas as pd\n",
    "import numpy as np\n",
    "import seaborn as sns\n",
    "import matplotlib.pyplot as plt\n",
    "import statsmodels.api as sm\n",
    "from statsmodels.formula.api import ols\n",
    "import warnings\n",
    "warnings.filterwarnings(\"ignore\")"
   ]
  },
  {
   "cell_type": "markdown",
   "metadata": {},
   "source": [
    "# II. Data Collection - CIA WorldFactbook"
   ]
  },
  {
   "cell_type": "code",
   "execution_count": 3,
   "metadata": {},
   "outputs": [],
   "source": [
    "#Collating all the potential sources of data from the CIA WorldFactbook\n",
    "\n",
    "files = ['AIRPORTS',\n",
    "'AREA',\n",
    "'BUDGET',\n",
    "'continent',\n",
    "'CURACCT',\n",
    "'DEBTFOREIGNERS',\n",
    "'EDUCATIONSPEND',\n",
    "'electricconsupmtion',\n",
    "'emissions',\n",
    "'EXPORTS',\n",
    "'fossilelectricity',\n",
    "'GDP',\n",
    "'GDPGROWTH',\n",
    "'GDPPERCAP',\n",
    "'hydroelectricity',\n",
    "'IMPORTS',\n",
    "'INDUSTPRODGR',\n",
    "'internetusers',\n",
    "'LIFEXP',\n",
    "'MARMERCHANT',\n",
    "'MIGRATION',\n",
    "'MILIEXPENDITURE',\n",
    "'naturalgasconsumption',\n",
    "'nuclearelectricity',\n",
    "'otherrenewableelectricity',\n",
    "'petroleumconsumption',\n",
    "'POPGROWTH',\n",
    "'POPULATION',\n",
    "'PUBLICDEBT',\n",
    "'RAILWAYS',\n",
    "'ROADWAYS',\n",
    "'UNEMPLOYMENT',\n",
    "'WATERWAYS',\n",
    "'WORKFORCE']"
   ]
  },
  {
   "cell_type": "code",
   "execution_count": 4,
   "metadata": {},
   "outputs": [],
   "source": [
    "#storing all the csv in a dictionary\n",
    "\n",
    "pd_dict = {}\n",
    "for file in files:\n",
    "    pd_dict[file] = pd.read_csv('{}.csv'.format(file))"
   ]
  },
  {
   "cell_type": "code",
   "execution_count": 5,
   "metadata": {},
   "outputs": [],
   "source": [
    "#Creating the dataframes from the dictionary\n",
    "\n",
    "base_df = pd_dict['continent']\n",
    "area_df = pd_dict['AREA']\n",
    "petrol_df = pd_dict['petroleumconsumption']\n",
    "users_df = pd_dict['internetusers']\n",
    "hydro_df = pd_dict['hydroelectricity']\n",
    "nuclear_df = pd_dict['nuclearelectricity']\n",
    "otherrenew_df = pd_dict['otherrenewableelectricity']\n",
    "mili_df = pd_dict['MILIEXPENDITURE']\n",
    "co2_df = pd_dict['emissions']\n",
    "mili_df.rename(columns = {'% OF GDP':'mili_exp_gdp'}, inplace = True)"
   ]
  },
  {
   "cell_type": "markdown",
   "metadata": {},
   "source": [
    "# III. Data Transformation "
   ]
  },
  {
   "cell_type": "code",
   "execution_count": 6,
   "metadata": {},
   "outputs": [],
   "source": [
    "#Standardization of country names to merge\n",
    "\n",
    "for i, row in base_df.iterrows():\n",
    "    row['country_name'] = row['country_name'].split(\",\")\n",
    "    row ['country_name'] = row['country_name'][0]"
   ]
  },
  {
   "cell_type": "code",
   "execution_count": 7,
   "metadata": {},
   "outputs": [
    {
     "data": {
      "text/html": [
       "<div>\n",
       "<style scoped>\n",
       "    .dataframe tbody tr th:only-of-type {\n",
       "        vertical-align: middle;\n",
       "    }\n",
       "\n",
       "    .dataframe tbody tr th {\n",
       "        vertical-align: top;\n",
       "    }\n",
       "\n",
       "    .dataframe thead th {\n",
       "        text-align: right;\n",
       "    }\n",
       "</style>\n",
       "<table border=\"1\" class=\"dataframe\">\n",
       "  <thead>\n",
       "    <tr style=\"text-align: right;\">\n",
       "      <th></th>\n",
       "      <th>Unnamed: 0</th>\n",
       "      <th>COUNTRY</th>\n",
       "      <th>mili_exp_gdp</th>\n",
       "      <th>YEAR</th>\n",
       "      <th>Unnamed: 4</th>\n",
       "    </tr>\n",
       "  </thead>\n",
       "  <tbody>\n",
       "    <tr>\n",
       "      <th>0</th>\n",
       "      <td>1</td>\n",
       "      <td>Saudi Arabia</td>\n",
       "      <td>8.78</td>\n",
       "      <td>2018</td>\n",
       "      <td>NaN</td>\n",
       "    </tr>\n",
       "    <tr>\n",
       "      <th>1</th>\n",
       "      <td>2</td>\n",
       "      <td>Oman</td>\n",
       "      <td>8.17</td>\n",
       "      <td>2018</td>\n",
       "      <td>NaN</td>\n",
       "    </tr>\n",
       "    <tr>\n",
       "      <th>2</th>\n",
       "      <td>3</td>\n",
       "      <td>United Arab Emirates</td>\n",
       "      <td>5.70</td>\n",
       "      <td>2016</td>\n",
       "      <td>NaN</td>\n",
       "    </tr>\n",
       "    <tr>\n",
       "      <th>3</th>\n",
       "      <td>4</td>\n",
       "      <td>Algeria</td>\n",
       "      <td>5.27</td>\n",
       "      <td>2018</td>\n",
       "      <td>NaN</td>\n",
       "    </tr>\n",
       "    <tr>\n",
       "      <th>4</th>\n",
       "      <td>5</td>\n",
       "      <td>Kuwait</td>\n",
       "      <td>5.06</td>\n",
       "      <td>2018</td>\n",
       "      <td>NaN</td>\n",
       "    </tr>\n",
       "    <tr>\n",
       "      <th>...</th>\n",
       "      <td>...</td>\n",
       "      <td>...</td>\n",
       "      <td>...</td>\n",
       "      <td>...</td>\n",
       "      <td>...</td>\n",
       "    </tr>\n",
       "    <tr>\n",
       "      <th>153</th>\n",
       "      <td>154</td>\n",
       "      <td>Iceland</td>\n",
       "      <td>0.30</td>\n",
       "      <td>2018</td>\n",
       "      <td>NaN</td>\n",
       "    </tr>\n",
       "    <tr>\n",
       "      <th>154</th>\n",
       "      <td>155</td>\n",
       "      <td>Papua New Guinea</td>\n",
       "      <td>0.27</td>\n",
       "      <td>2018</td>\n",
       "      <td>NaN</td>\n",
       "    </tr>\n",
       "    <tr>\n",
       "      <th>155</th>\n",
       "      <td>156</td>\n",
       "      <td>Laos</td>\n",
       "      <td>0.19</td>\n",
       "      <td>2013</td>\n",
       "      <td>NaN</td>\n",
       "    </tr>\n",
       "    <tr>\n",
       "      <th>156</th>\n",
       "      <td>157</td>\n",
       "      <td>Equatorial Guinea</td>\n",
       "      <td>0.18</td>\n",
       "      <td>2016</td>\n",
       "      <td>NaN</td>\n",
       "    </tr>\n",
       "    <tr>\n",
       "      <th>157</th>\n",
       "      <td>158</td>\n",
       "      <td>Mauritius</td>\n",
       "      <td>0.16</td>\n",
       "      <td>2018</td>\n",
       "      <td>NaN</td>\n",
       "    </tr>\n",
       "  </tbody>\n",
       "</table>\n",
       "<p>158 rows × 5 columns</p>\n",
       "</div>"
      ],
      "text/plain": [
       "     Unnamed: 0               COUNTRY  mili_exp_gdp  YEAR Unnamed: 4\n",
       "0             1          Saudi Arabia          8.78  2018        NaN\n",
       "1             2                  Oman          8.17  2018        NaN\n",
       "2             3  United Arab Emirates          5.70  2016        NaN\n",
       "3             4               Algeria          5.27  2018        NaN\n",
       "4             5                Kuwait          5.06  2018        NaN\n",
       "..          ...                   ...           ...   ...        ...\n",
       "153         154               Iceland          0.30  2018        NaN\n",
       "154         155      Papua New Guinea          0.27  2018        NaN\n",
       "155         156                  Laos          0.19  2013        NaN\n",
       "156         157     Equatorial Guinea          0.18  2016        NaN\n",
       "157         158             Mauritius          0.16  2018        NaN\n",
       "\n",
       "[158 rows x 5 columns]"
      ]
     },
     "execution_count": 7,
     "metadata": {},
     "output_type": "execute_result"
    }
   ],
   "source": [
    "#Renaming columns to facilitate merge\n",
    "\n",
    "base_df.rename(columns = {'country_name':'Country'}, inplace = True)\n",
    "base_df.merge(area_df, on = 'Country', how = 'left')\n",
    "mili_df.rename(columns = {\"mili_exp_%_gdp\": \"mili_exp_gdp\"})\n"
   ]
  },
  {
   "cell_type": "code",
   "execution_count": null,
   "metadata": {},
   "outputs": [],
   "source": []
  }
 ],
 "metadata": {
  "kernelspec": {
   "display_name": "Python 3",
   "language": "python",
   "name": "python3"
  },
  "language_info": {
   "codemirror_mode": {
    "name": "ipython",
    "version": 3
   },
   "file_extension": ".py",
   "mimetype": "text/x-python",
   "name": "python",
   "nbconvert_exporter": "python",
   "pygments_lexer": "ipython3",
   "version": "3.6.8"
  }
 },
 "nbformat": 4,
 "nbformat_minor": 2
}
