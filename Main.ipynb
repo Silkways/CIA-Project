{
 "cells": [
  {
   "cell_type": "markdown",
   "metadata": {},
   "source": [
    "# Title: Carbon Emissions Observations\n",
    "By: Laura Suchomska, Ravi Malde, Augustin Goudet"
   ]
  },
  {
   "cell_type": "markdown",
   "metadata": {},
   "source": [
    "# I. Package Install"
   ]
  },
  {
   "cell_type": "code",
   "execution_count": 4,
   "metadata": {},
   "outputs": [],
   "source": [
    "import pandas as pd\n",
    "import numpy as np\n",
    "import seaborn as sns\n",
    "import matplotlib.pyplot as plt\n",
    "import statsmodels.api as sm\n",
    "from statsmodels.formula.api import ols\n",
    "import warnings\n",
    "warnings.filterwarnings(\"ignore\")"
   ]
  },
  {
   "cell_type": "markdown",
   "metadata": {},
   "source": [
    "# II. Data Collection - CIA WorldFactbook"
   ]
  },
  {
   "cell_type": "code",
   "execution_count": 5,
   "metadata": {},
   "outputs": [],
   "source": [
    "#Collating all the potential sources of data from the CIA WorldFactbook\n",
    "\n",
    "files = ['AIRPORTS',\n",
    "'AREA',\n",
    "'BUDGET',\n",
    "'continent',\n",
    "'CURACCT',\n",
    "'DEBTFOREIGNERS',\n",
    "'EDUCATIONSPEND',\n",
    "'electricconsupmtion',\n",
    "'emissions',\n",
    "'EXPORTS',\n",
    "'fossilelectricity',\n",
    "'GDP',\n",
    "'GDPGROWTH',\n",
    "'GDPPERCAP',\n",
    "'hydroelectricity',\n",
    "'IMPORTS',\n",
    "'INDUSTPRODGR',\n",
    "'internetusers',\n",
    "'LIFEXP',\n",
    "'MARMERCHANT',\n",
    "'MIGRATION',\n",
    "'MILIEXPENDITURE',\n",
    "'naturalgasconsumption',\n",
    "'nuclearelectricity',\n",
    "'otherrenewableelectricity',\n",
    "'petroleumconsumption',\n",
    "'POPGROWTH',\n",
    "'POPULATION',\n",
    "'PUBLICDEBT',\n",
    "'RAILWAYS',\n",
    "'ROADWAYS',\n",
    "'UNEMPLOYMENT',\n",
    "'WATERWAYS',\n",
    "'WORKFORCE']"
   ]
  },
  {
   "cell_type": "code",
   "execution_count": 6,
   "metadata": {},
   "outputs": [],
   "source": [
    "#storing all the csv in a dictionary\n",
    "\n",
    "pd_dict = {}\n",
    "for file in files:\n",
    "    pd_dict[file] = pd.read_csv('{}.csv'.format(file))"
   ]
  },
  {
   "cell_type": "code",
   "execution_count": 7,
   "metadata": {},
   "outputs": [],
   "source": [
    "#Creating the dataframes from the dictionary\n",
    "\n",
    "base_df = pd_dict['continent']\n",
    "area_df = pd_dict['AREA']\n",
    "petrol_df = pd_dict['petroleumconsumption']\n",
    "users_df = pd_dict['internetusers']\n",
    "hydro_df = pd_dict['hydroelectricity']\n",
    "nuclear_df = pd_dict['nuclearelectricity']\n",
    "otherrenew_df = pd_dict['otherrenewableelectricity']\n",
    "mili_df = pd_dict['MILIEXPENDITURE']\n",
    "co2_df = pd_dict['emissions']\n",
    "mili_df.rename(columns = {'% OF GDP':'mili_exp_gdp'}, inplace = True)"
   ]
  },
  {
   "cell_type": "markdown",
   "metadata": {},
   "source": [
    "# III. Data Transformation "
   ]
  },
  {
   "cell_type": "code",
   "execution_count": 9,
   "metadata": {},
   "outputs": [],
   "source": [
    "#Standardization of country names to merge\n",
    "\n",
    "for i, row in base_df.iterrows():\n",
    "    row['country_name'] = row['country_name'].split(\",\")\n",
    "    row ['country_name'] = row['country_name'][0]"
   ]
  },
  {
   "cell_type": "code",
   "execution_count": null,
   "metadata": {},
   "outputs": [],
   "source": [
    "#Renaming columns to facilitate merge\n",
    "\n",
    "base_df.rename(columns = {'country_name':'Country'}, inplace = True)\n",
    "base_df.merge(area_df, on = 'Country', how = 'left')\n",
    "\n",
    "mili_df."
   ]
  },
  {
   "cell_type": "code",
   "execution_count": null,
   "metadata": {},
   "outputs": [],
   "source": []
  }
 ],
 "metadata": {
  "kernelspec": {
   "display_name": "Python 3",
   "language": "python",
   "name": "python3"
  },
  "language_info": {
   "codemirror_mode": {
    "name": "ipython",
    "version": 3
   },
   "file_extension": ".py",
   "mimetype": "text/x-python",
   "name": "python",
   "nbconvert_exporter": "python",
   "pygments_lexer": "ipython3",
   "version": "3.6.8"
  }
 },
 "nbformat": 4,
 "nbformat_minor": 2
}
