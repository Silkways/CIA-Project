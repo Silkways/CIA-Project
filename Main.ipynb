{
 "cells": [
  {
   "cell_type": "markdown",
   "metadata": {},
   "source": [
    "# Title: Carbon Emissions Observations\n",
    "By: Laura Suchomska, Ravi Malde, Augustin Goudet"
   ]
  },
  {
   "cell_type": "markdown",
   "metadata": {},
   "source": [
    "# I. Package Install Installation"
   ]
  },
  {
   "cell_type": "code",
   "execution_count": 36,
   "metadata": {},
   "outputs": [],
   "source": [
    "import pandas as pd\n",
    "import numpy as np\n",
    "import seaborn as sns\n",
    "import matplotlib.pyplot as plt\n",
    "import statsmodels.api as sm\n",
    "from statsmodels.formula.api import ols\n",
    "import scipy.stats as stats\n",
    "from statsmodels.stats.multicomp import pairwise_tukeyhsd\n",
    "from statsmodels.stats.multicomp import MultiComparison\n",
    "import warnings\n",
    "warnings.filterwarnings(\"ignore\")"
   ]
  },
  {
   "cell_type": "markdown",
   "metadata": {},
   "source": [
    "# II. Data Collection - CIA WorldFactbook"
   ]
  },
  {
   "cell_type": "code",
   "execution_count": 2,
   "metadata": {},
   "outputs": [],
   "source": [
    "#Collating all the potential sources of data from the CIA WorldFactbook\n",
    "\n",
    "files = ['AIRPORTS',\n",
    "'AREA',\n",
    "'BUDGET',\n",
    "'continent',\n",
    "'CURACCT',\n",
    "'DEBTFOREIGNERS',\n",
    "'EDUCATIONSPEND',\n",
    "'electricconsupmtion',\n",
    "'emissions',\n",
    "'EXPORTS',\n",
    "'fossilelectricity',\n",
    "'GDP',\n",
    "'GDPGROWTH',\n",
    "'GDPPERCAP',\n",
    "'hydroelectricity',\n",
    "'IMPORTS',\n",
    "'INDUSTPRODGR',\n",
    "'internetusers',\n",
    "'LIFEXP',\n",
    "'MARMERCHANT',\n",
    "'MIGRATION',\n",
    "'MILIEXPENDITURE',\n",
    "'naturalgasconsumption',\n",
    "'nuclearelectricity',\n",
    "'otherrenewableelectricity',\n",
    "'petroleumconsumption',\n",
    "'POPGROWTH',\n",
    "'POPULATION',\n",
    "'PUBLICDEBT',\n",
    "'RAILWAYS',\n",
    "'ROADWAYS',\n",
    "'UNEMPLOYMENT',\n",
    "'WATERWAYS',\n",
    "'WORKFORCE']"
   ]
  },
  {
   "cell_type": "code",
   "execution_count": 3,
   "metadata": {},
   "outputs": [],
   "source": [
    "#storing all the csv in a dictionary\n",
    "\n",
    "pd_dict = {}\n",
    "for file in files:\n",
    "    pd_dict[file] = pd.read_csv('{}.csv'.format(file))"
   ]
  },
  {
   "cell_type": "code",
   "execution_count": 4,
   "metadata": {},
   "outputs": [],
   "source": [
    "#Creating the dataframes from the dictionary\n",
    "\n",
    "base_df = pd_dict['continent']\n",
    "area_df = pd_dict['AREA']\n",
    "petrol_df = pd_dict['petroleumconsumption']\n",
    "users_df = pd_dict['internetusers']\n",
    "hydro_df = pd_dict['hydroelectricity']\n",
    "nuclear_df = pd_dict['nuclearelectricity']\n",
    "otherrenew_df = pd_dict['otherrenewableelectricity']\n",
    "mili_df = pd_dict['MILIEXPENDITURE']\n",
    "co2_df = pd_dict['emissions']\n",
    "pop_df = pd_dict['POPULATION']"
   ]
  },
  {
   "cell_type": "markdown",
   "metadata": {},
   "source": [
    "# III. Data Transformation "
   ]
  },
  {
   "cell_type": "code",
   "execution_count": 5,
   "metadata": {},
   "outputs": [],
   "source": [
    "#Standardization of country names to merge\n",
    "for i, row in base_df.iterrows():\n",
    "    row['country_name'] = row['country_name'].split(\",\")\n",
    "    row ['country_name'] = row['country_name'][0]"
   ]
  },
  {
   "cell_type": "code",
   "execution_count": 6,
   "metadata": {},
   "outputs": [],
   "source": [
    "#Renaming columns to facilitate merge\n",
    "mili_df.rename(columns = {\"% OF GDP\": \"mili_exp_gdp\"}, inplace = True)\n",
    "base_df.rename(columns = {'country_name':'Country'}, inplace = True)\n"
   ]
  },
  {
   "cell_type": "code",
   "execution_count": 7,
   "metadata": {},
   "outputs": [
    {
     "data": {
      "text/html": [
       "<div>\n",
       "<style scoped>\n",
       "    .dataframe tbody tr th:only-of-type {\n",
       "        vertical-align: middle;\n",
       "    }\n",
       "\n",
       "    .dataframe tbody tr th {\n",
       "        vertical-align: top;\n",
       "    }\n",
       "\n",
       "    .dataframe thead th {\n",
       "        text-align: right;\n",
       "    }\n",
       "</style>\n",
       "<table border=\"1\" class=\"dataframe\">\n",
       "  <thead>\n",
       "    <tr style=\"text-align: right;\">\n",
       "      <th></th>\n",
       "      <th>continent_name</th>\n",
       "      <th>Country</th>\n",
       "    </tr>\n",
       "  </thead>\n",
       "  <tbody>\n",
       "    <tr>\n",
       "      <th>0</th>\n",
       "      <td>Asia</td>\n",
       "      <td>Afghanistan</td>\n",
       "    </tr>\n",
       "  </tbody>\n",
       "</table>\n",
       "</div>"
      ],
      "text/plain": [
       "  continent_name      Country\n",
       "0           Asia  Afghanistan"
      ]
     },
     "execution_count": 7,
     "metadata": {},
     "output_type": "execute_result"
    }
   ],
   "source": [
    "#Merging base dataframe to bring in continent_name and country fields together\n",
    "base_df.merge(area_df, on = 'Country', how = 'left')\n",
    "base_df.head(n=1)"
   ]
  },
  {
   "cell_type": "code",
   "execution_count": 8,
   "metadata": {},
   "outputs": [
    {
     "data": {
      "text/html": [
       "<div>\n",
       "<style scoped>\n",
       "    .dataframe tbody tr th:only-of-type {\n",
       "        vertical-align: middle;\n",
       "    }\n",
       "\n",
       "    .dataframe tbody tr th {\n",
       "        vertical-align: top;\n",
       "    }\n",
       "\n",
       "    .dataframe thead th {\n",
       "        text-align: right;\n",
       "    }\n",
       "</style>\n",
       "<table border=\"1\" class=\"dataframe\">\n",
       "  <thead>\n",
       "    <tr style=\"text-align: right;\">\n",
       "      <th></th>\n",
       "      <th>continent_name</th>\n",
       "      <th>country</th>\n",
       "      <th>Index_x</th>\n",
       "      <th>Area_sqKm</th>\n",
       "      <th>Unnamed: 0_x</th>\n",
       "      <th>refined_petroleum_consumption_barrels_per_day</th>\n",
       "      <th>year_x</th>\n",
       "      <th>Unnamed: 4_x</th>\n",
       "      <th>Unnamed: 0_y</th>\n",
       "      <th>number_of_internet_users</th>\n",
       "      <th>...</th>\n",
       "      <th>Unnamed: 4_x</th>\n",
       "      <th>Unnamed: 0</th>\n",
       "      <th>year</th>\n",
       "      <th>carbon_emissions_from_energy_consumption_MT</th>\n",
       "      <th>Unnamed: 4_y</th>\n",
       "      <th>Index_y</th>\n",
       "      <th>Population</th>\n",
       "      <th>Month</th>\n",
       "      <th>Year</th>\n",
       "      <th>Unnamed: 5</th>\n",
       "    </tr>\n",
       "  </thead>\n",
       "  <tbody>\n",
       "    <tr>\n",
       "      <th>0</th>\n",
       "      <td>Asia</td>\n",
       "      <td>Afghanistan</td>\n",
       "      <td>42.0</td>\n",
       "      <td>652,230.00</td>\n",
       "      <td>117.0</td>\n",
       "      <td>35,000</td>\n",
       "      <td>2016.0</td>\n",
       "      <td>est.</td>\n",
       "      <td>NaN</td>\n",
       "      <td>NaN</td>\n",
       "      <td>...</td>\n",
       "      <td>NaN</td>\n",
       "      <td>111.0</td>\n",
       "      <td>2017.0</td>\n",
       "      <td>9,067,000.00</td>\n",
       "      <td>est.</td>\n",
       "      <td>39.0</td>\n",
       "      <td>36,643,815</td>\n",
       "      <td>July</td>\n",
       "      <td>2020</td>\n",
       "      <td>est.</td>\n",
       "    </tr>\n",
       "    <tr>\n",
       "      <th>1</th>\n",
       "      <td>Europe</td>\n",
       "      <td>Albania</td>\n",
       "      <td>145.0</td>\n",
       "      <td>28,748.00</td>\n",
       "      <td>120.0</td>\n",
       "      <td>29,000</td>\n",
       "      <td>2016.0</td>\n",
       "      <td>est.</td>\n",
       "      <td>111.0</td>\n",
       "      <td>2,016,516</td>\n",
       "      <td>...</td>\n",
       "      <td>est.</td>\n",
       "      <td>136.0</td>\n",
       "      <td>2017.0</td>\n",
       "      <td>4,500,000.00</td>\n",
       "      <td>est.</td>\n",
       "      <td>136.0</td>\n",
       "      <td>3,074,579</td>\n",
       "      <td>July</td>\n",
       "      <td>2020</td>\n",
       "      <td>est.</td>\n",
       "    </tr>\n",
       "  </tbody>\n",
       "</table>\n",
       "<p>2 rows × 36 columns</p>\n",
       "</div>"
      ],
      "text/plain": [
       "  continent_name      country  Index_x   Area_sqKm  Unnamed: 0_x  \\\n",
       "0           Asia  Afghanistan     42.0  652,230.00         117.0   \n",
       "1         Europe      Albania    145.0   28,748.00         120.0   \n",
       "\n",
       "  refined_petroleum_consumption_barrels_per_day  year_x Unnamed: 4_x  \\\n",
       "0                                        35,000  2016.0         est.   \n",
       "1                                        29,000  2016.0         est.   \n",
       "\n",
       "   Unnamed: 0_y number_of_internet_users  ... Unnamed: 4_x  Unnamed: 0  \\\n",
       "0           NaN                      NaN  ...          NaN       111.0   \n",
       "1         111.0                2,016,516  ...         est.       136.0   \n",
       "\n",
       "     year  carbon_emissions_from_energy_consumption_MT Unnamed: 4_y  Index_y  \\\n",
       "0  2017.0                                 9,067,000.00         est.     39.0   \n",
       "1  2017.0                                 4,500,000.00         est.    136.0   \n",
       "\n",
       "   Population  Month  Year  Unnamed: 5  \n",
       "0  36,643,815   July  2020        est.  \n",
       "1   3,074,579   July  2020        est.  \n",
       "\n",
       "[2 rows x 36 columns]"
      ]
     },
     "execution_count": 8,
     "metadata": {},
     "output_type": "execute_result"
    }
   ],
   "source": [
    "#Merging relevant country attributes to create a single dataframe to work on\n",
    "\n",
    "df1 = base_df.merge(area_df, on = 'Country', how = 'left')\n",
    "df1.rename(columns = {'Country':'country'}, inplace = True)\n",
    "df2 = df1.merge(petrol_df, on = 'country', how = 'outer')\n",
    "df3 = df2.merge(users_df, on = 'country', how = 'outer')\n",
    "df4 = df3.merge(hydro_df, on = 'country', how = 'outer')\n",
    "df5 = df4.merge(nuclear_df, on = 'country', how = 'outer')\n",
    "df6 = df5.merge(otherrenew_df, on = 'country', how = 'outer')\n",
    "mili_df.rename(columns = {'COUNTRY':'country'}, inplace = True)\n",
    "df7 = df6.merge(mili_df, on = 'country', how = 'outer')\n",
    "df8 = df7.merge(co2_df, on = 'country', how = 'outer')\n",
    "pop_df.rename(columns = {'Country':'country'}, inplace = True)\n",
    "df9 = df8.merge(pop_df, on = 'country', how = 'outer')\n",
    "df9.head(n=2)\n"
   ]
  },
  {
   "cell_type": "code",
   "execution_count": 9,
   "metadata": {},
   "outputs": [
    {
     "data": {
      "text/html": [
       "<div>\n",
       "<style scoped>\n",
       "    .dataframe tbody tr th:only-of-type {\n",
       "        vertical-align: middle;\n",
       "    }\n",
       "\n",
       "    .dataframe tbody tr th {\n",
       "        vertical-align: top;\n",
       "    }\n",
       "\n",
       "    .dataframe thead th {\n",
       "        text-align: right;\n",
       "    }\n",
       "</style>\n",
       "<table border=\"1\" class=\"dataframe\">\n",
       "  <thead>\n",
       "    <tr style=\"text-align: right;\">\n",
       "      <th></th>\n",
       "      <th>continent_name</th>\n",
       "      <th>country</th>\n",
       "      <th>Area_sqKm</th>\n",
       "      <th>refined_petroleum_consumption_barrels_per_day</th>\n",
       "      <th>number_of_internet_users</th>\n",
       "      <th>hydro_percentage_of_electricity_production</th>\n",
       "      <th>nuclear_percentage_of_electricity_production</th>\n",
       "      <th>other_renewable_percentage_of_electricity_production</th>\n",
       "      <th>mili_exp_gdp</th>\n",
       "      <th>carbon_emissions_from_energy_consumption_MT</th>\n",
       "      <th>Population</th>\n",
       "    </tr>\n",
       "  </thead>\n",
       "  <tbody>\n",
       "    <tr>\n",
       "      <th>217</th>\n",
       "      <td>Africa</td>\n",
       "      <td>Swaziland</td>\n",
       "      <td>NaN</td>\n",
       "      <td>NaN</td>\n",
       "      <td>NaN</td>\n",
       "      <td>NaN</td>\n",
       "      <td>NaN</td>\n",
       "      <td>NaN</td>\n",
       "      <td>NaN</td>\n",
       "      <td>NaN</td>\n",
       "      <td>NaN</td>\n",
       "    </tr>\n",
       "    <tr>\n",
       "      <th>32</th>\n",
       "      <td>Europe</td>\n",
       "      <td>Bulgaria</td>\n",
       "      <td>110,879.00</td>\n",
       "      <td>97,000</td>\n",
       "      <td>4,274,328</td>\n",
       "      <td>23.0</td>\n",
       "      <td>20.0</td>\n",
       "      <td>19.0</td>\n",
       "      <td>3.25</td>\n",
       "      <td>46,310,000.00</td>\n",
       "      <td>6,966,899</td>\n",
       "    </tr>\n",
       "  </tbody>\n",
       "</table>\n",
       "</div>"
      ],
      "text/plain": [
       "    continent_name    country   Area_sqKm  \\\n",
       "217         Africa  Swaziland         NaN   \n",
       "32          Europe   Bulgaria  110,879.00   \n",
       "\n",
       "    refined_petroleum_consumption_barrels_per_day number_of_internet_users  \\\n",
       "217                                           NaN                      NaN   \n",
       "32                                         97,000                4,274,328   \n",
       "\n",
       "     hydro_percentage_of_electricity_production  \\\n",
       "217                                         NaN   \n",
       "32                                         23.0   \n",
       "\n",
       "     nuclear_percentage_of_electricity_production  \\\n",
       "217                                           NaN   \n",
       "32                                           20.0   \n",
       "\n",
       "     other_renewable_percentage_of_electricity_production  mili_exp_gdp  \\\n",
       "217                                                NaN              NaN   \n",
       "32                                                19.0             3.25   \n",
       "\n",
       "    carbon_emissions_from_energy_consumption_MT Population  \n",
       "217                                         NaN        NaN  \n",
       "32                                46,310,000.00  6,966,899  "
      ]
     },
     "execution_count": 9,
     "metadata": {},
     "output_type": "execute_result"
    }
   ],
   "source": [
    "#Creating our main DataFrame with relevant country attributes\n",
    "\n",
    "final_df = df9[['continent_name','country','Area_sqKm','refined_petroleum_consumption_barrels_per_day','number_of_internet_users', 'hydro_percentage_of_electricity_production','nuclear_percentage_of_electricity_production', 'other_renewable_percentage_of_electricity_production',\"mili_exp_gdp\",\"carbon_emissions_from_energy_consumption_MT\",\"Population\"]].copy()\n",
    "final_df.sample(n=2)"
   ]
  },
  {
   "cell_type": "code",
   "execution_count": 10,
   "metadata": {},
   "outputs": [
    {
     "name": "stdout",
     "output_type": "stream",
     "text": [
      "<class 'pandas.core.frame.DataFrame'>\n",
      "Int64Index: 283 entries, 0 to 282\n",
      "Data columns (total 11 columns):\n",
      "continent_name                                          257 non-null object\n",
      "country                                                 283 non-null object\n",
      "Area_sqKm                                               222 non-null object\n",
      "refined_petroleum_consumption_barrels_per_day           221 non-null object\n",
      "number_of_internet_users                                232 non-null object\n",
      "hydro_percentage_of_electricity_production              221 non-null float64\n",
      "nuclear_percentage_of_electricity_production            221 non-null float64\n",
      "other_renewable_percentage_of_electricity_production    220 non-null float64\n",
      "mili_exp_gdp                                            164 non-null float64\n",
      "carbon_emissions_from_energy_consumption_MT             220 non-null object\n",
      "Population                                              244 non-null object\n",
      "dtypes: float64(4), object(7)\n",
      "memory usage: 26.5+ KB\n"
     ]
    }
   ],
   "source": [
    "#Checking for data point format / change objects to floats for numerical variables\n",
    "final_df.info()"
   ]
  },
  {
   "cell_type": "code",
   "execution_count": 11,
   "metadata": {},
   "outputs": [],
   "source": [
    "# Removing commas from numbers to transform objects into floats\n",
    "\n",
    "final_df['Area_sqKm'] = final_df['Area_sqKm'].str.replace(',', '')\n",
    "final_df['refined_petroleum_consumption_barrels_per_day'] = final_df['refined_petroleum_consumption_barrels_per_day'].str.replace(',', '')\n",
    "final_df['number_of_internet_users'] = final_df['number_of_internet_users'].str.replace(',', '')\n",
    "final_df['carbon_emissions_from_energy_consumption_MT'] = final_df['carbon_emissions_from_energy_consumption_MT'].str.replace(',', '')\n",
    "final_df['Population'] = final_df['Population'].str.replace(',', '')\n",
    "\n"
   ]
  },
  {
   "cell_type": "code",
   "execution_count": 12,
   "metadata": {},
   "outputs": [],
   "source": [
    "#Conversion of objects to floats\n",
    "\n",
    "final_df['Area_sqKm'] = final_df['Area_sqKm'].astype(float)\n",
    "final_df['refined_petroleum_consumption_barrels_per_day'] = final_df['refined_petroleum_consumption_barrels_per_day'].astype(float)\n",
    "final_df['number_of_internet_users'] = final_df['number_of_internet_users'].astype(float)\n",
    "final_df['carbon_emissions_from_energy_consumption_MT'] = final_df['carbon_emissions_from_energy_consumption_MT'].astype(float)\n",
    "final_df['Population'] = final_df['Population'].astype(float)\n"
   ]
  },
  {
   "cell_type": "markdown",
   "metadata": {},
   "source": [
    "# IV. Null Values Treatment"
   ]
  },
  {
   "cell_type": "code",
   "execution_count": 13,
   "metadata": {},
   "outputs": [
    {
     "data": {
      "text/plain": [
       "continent_name                                           26\n",
       "country                                                   0\n",
       "Area_sqKm                                                61\n",
       "refined_petroleum_consumption_barrels_per_day            62\n",
       "number_of_internet_users                                 51\n",
       "hydro_percentage_of_electricity_production               62\n",
       "nuclear_percentage_of_electricity_production             62\n",
       "other_renewable_percentage_of_electricity_production     63\n",
       "mili_exp_gdp                                            119\n",
       "carbon_emissions_from_energy_consumption_MT              63\n",
       "Population                                               39\n",
       "dtype: int64"
      ]
     },
     "execution_count": 13,
     "metadata": {},
     "output_type": "execute_result"
    }
   ],
   "source": [
    "#Checking for null values\n",
    "\n",
    "final_df.isnull().sum()"
   ]
  },
  {
   "cell_type": "code",
   "execution_count": 14,
   "metadata": {},
   "outputs": [],
   "source": [
    "#Treatment for null values - dropping erroneous names / Nan Area points\n",
    "final_df.dropna(subset=['continent_name', \"Area_sqKm\", \"refined_petroleum_consumption_barrels_per_day\"], inplace = True)\n"
   ]
  },
  {
   "cell_type": "code",
   "execution_count": 15,
   "metadata": {},
   "outputs": [],
   "source": [
    "#Treatment for null values - adding mili expenditures median for two countries / fill with 0 for remainder\n",
    "\n",
    "median_exp = final_df['mili_exp_gdp'].median()\n",
    "armed_countries = ['Syria','Qatar']\n",
    "\n",
    "rows_to_change = list(final_df[(final_df['mili_exp_gdp'].isnull()) &\n",
    "         (final_df.country.isin(armed_countries))].index)\n",
    "\n",
    "final_df.loc[rows_to_change,'mili_exp_gdp'] = median_exp\n",
    "final_df[final_df.country.isin(armed_countries)]\n",
    "\n",
    "final_df['mili_exp_gdp'].fillna(0,inplace = True )"
   ]
  },
  {
   "cell_type": "code",
   "execution_count": 16,
   "metadata": {
    "scrolled": true
   },
   "outputs": [
    {
     "data": {
      "text/plain": [
       "continent_name                                          0\n",
       "country                                                 0\n",
       "Area_sqKm                                               0\n",
       "refined_petroleum_consumption_barrels_per_day           0\n",
       "number_of_internet_users                                0\n",
       "hydro_percentage_of_electricity_production              0\n",
       "nuclear_percentage_of_electricity_production            0\n",
       "other_renewable_percentage_of_electricity_production    0\n",
       "mili_exp_gdp                                            0\n",
       "carbon_emissions_from_energy_consumption_MT             0\n",
       "Population                                              0\n",
       "dtype: int64"
      ]
     },
     "execution_count": 16,
     "metadata": {},
     "output_type": "execute_result"
    }
   ],
   "source": [
    "##Treatment for null values - adding internet users median for two countries / fill with 0 for remainder\n",
    "\n",
    "median_int = final_df['number_of_internet_users'].median()\n",
    "internet_users = ['Afghanistan','South Sudan']\n",
    "\n",
    "int_rows_to_change = list(final_df[(final_df['number_of_internet_users'].isnull()) &\n",
    "         (final_df.country.isin(internet_users))].index)\n",
    "\n",
    "final_df.loc[int_rows_to_change,'number_of_internet_users'] = median_int\n",
    "final_df[final_df.country.isin(internet_users)]\n",
    "\n",
    "final_df['number_of_internet_users'].fillna(0,inplace = True )\n",
    "\n",
    "final_df.isnull().sum()"
   ]
  },
  {
   "cell_type": "markdown",
   "metadata": {},
   "source": [
    "# VI. Exploratory Data Analysis"
   ]
  },
  {
   "cell_type": "code",
   "execution_count": 17,
   "metadata": {},
   "outputs": [],
   "source": [
    "#Crombining non-fossil electricity fields / proxy for renewable source\n",
    "\n",
    "final_df['non_fossil_electricity'] = final_df['hydro_percentage_of_electricity_production'] + final_df['nuclear_percentage_of_electricity_production'] + final_df['other_renewable_percentage_of_electricity_production']\n"
   ]
  },
  {
   "cell_type": "code",
   "execution_count": 18,
   "metadata": {},
   "outputs": [
    {
     "data": {
      "text/html": [
       "<style  type=\"text/css\" >\n",
       "</style><table id=\"T_00f83268_4e71_11ea_934d_a0999b19a4f3\" ><thead>    <tr>        <th class=\"blank level0\" ></th>        <th class=\"col_heading level0 col0\" >continent_name</th>        <th class=\"col_heading level0 col1\" >Population</th>        <th class=\"col_heading level0 col2\" >carbon_emissions_from_energy_consumption_MT</th>        <th class=\"col_heading level0 col3\" >mili_exp_gdp</th>        <th class=\"col_heading level0 col4\" >non_fossil_electricity</th>        <th class=\"col_heading level0 col5\" >number_of_internet_users</th>        <th class=\"col_heading level0 col6\" >refined_petroleum_consumption_barrels_per_day</th>    </tr></thead><tbody>\n",
       "                <tr>\n",
       "                        <th id=\"T_00f83268_4e71_11ea_934d_a0999b19a4f3level0_row0\" class=\"row_heading level0 row0\" >0</th>\n",
       "                        <td id=\"T_00f83268_4e71_11ea_934d_a0999b19a4f3row0_col0\" class=\"data row0 col0\" >AFRICA</td>\n",
       "                        <td id=\"T_00f83268_4e71_11ea_934d_a0999b19a4f3row0_col1\" class=\"data row0 col1\" >2.49318e+07</td>\n",
       "                        <td id=\"T_00f83268_4e71_11ea_934d_a0999b19a4f3row0_col2\" class=\"data row0 col2\" >          27,374,741</td>\n",
       "                        <td id=\"T_00f83268_4e71_11ea_934d_a0999b19a4f3row0_col3\" class=\"data row0 col3\" >1.43%</td>\n",
       "                        <td id=\"T_00f83268_4e71_11ea_934d_a0999b19a4f3row0_col4\" class=\"data row0 col4\" >37.33%</td>\n",
       "                        <td id=\"T_00f83268_4e71_11ea_934d_a0999b19a4f3row0_col5\" class=\"data row0 col5\" >           5,868,278</td>\n",
       "                        <td id=\"T_00f83268_4e71_11ea_934d_a0999b19a4f3row0_col6\" class=\"data row0 col6\" >              77,448</td>\n",
       "            </tr>\n",
       "            <tr>\n",
       "                        <th id=\"T_00f83268_4e71_11ea_934d_a0999b19a4f3level0_row1\" class=\"row_heading level0 row1\" >1</th>\n",
       "                        <td id=\"T_00f83268_4e71_11ea_934d_a0999b19a4f3row1_col0\" class=\"data row1 col0\" >ASIA</td>\n",
       "                        <td id=\"T_00f83268_4e71_11ea_934d_a0999b19a4f3row1_col1\" class=\"data row1 col1\" >9.7616e+07</td>\n",
       "                        <td id=\"T_00f83268_4e71_11ea_934d_a0999b19a4f3row1_col2\" class=\"data row1 col2\" >         466,522,251</td>\n",
       "                        <td id=\"T_00f83268_4e71_11ea_934d_a0999b19a4f3row1_col3\" class=\"data row1 col3\" >2.50%</td>\n",
       "                        <td id=\"T_00f83268_4e71_11ea_934d_a0999b19a4f3row1_col4\" class=\"data row1 col4\" >27.96%</td>\n",
       "                        <td id=\"T_00f83268_4e71_11ea_934d_a0999b19a4f3row1_col5\" class=\"data row1 col5\" >          39,905,819</td>\n",
       "                        <td id=\"T_00f83268_4e71_11ea_934d_a0999b19a4f3row1_col6\" class=\"data row1 col6\" >             873,358</td>\n",
       "            </tr>\n",
       "            <tr>\n",
       "                        <th id=\"T_00f83268_4e71_11ea_934d_a0999b19a4f3level0_row2\" class=\"row_heading level0 row2\" >2</th>\n",
       "                        <td id=\"T_00f83268_4e71_11ea_934d_a0999b19a4f3row2_col0\" class=\"data row2 col0\" >EUROPE</td>\n",
       "                        <td id=\"T_00f83268_4e71_11ea_934d_a0999b19a4f3row2_col1\" class=\"data row2 col1\" >1.84373e+07</td>\n",
       "                        <td id=\"T_00f83268_4e71_11ea_934d_a0999b19a4f3row2_col2\" class=\"data row2 col2\" >         145,304,857</td>\n",
       "                        <td id=\"T_00f83268_4e71_11ea_934d_a0999b19a4f3row2_col3\" class=\"data row2 col3\" >1.55%</td>\n",
       "                        <td id=\"T_00f83268_4e71_11ea_934d_a0999b19a4f3row2_col4\" class=\"data row2 col4\" >49.60%</td>\n",
       "                        <td id=\"T_00f83268_4e71_11ea_934d_a0999b19a4f3row2_col5\" class=\"data row2 col5\" >          13,921,629</td>\n",
       "                        <td id=\"T_00f83268_4e71_11ea_934d_a0999b19a4f3row2_col6\" class=\"data row2 col6\" >             415,173</td>\n",
       "            </tr>\n",
       "            <tr>\n",
       "                        <th id=\"T_00f83268_4e71_11ea_934d_a0999b19a4f3level0_row3\" class=\"row_heading level0 row3\" >3</th>\n",
       "                        <td id=\"T_00f83268_4e71_11ea_934d_a0999b19a4f3row3_col0\" class=\"data row3 col0\" >NORTH AMERICA</td>\n",
       "                        <td id=\"T_00f83268_4e71_11ea_934d_a0999b19a4f3row3_col1\" class=\"data row3 col1\" >1.8987e+07</td>\n",
       "                        <td id=\"T_00f83268_4e71_11ea_934d_a0999b19a4f3row3_col2\" class=\"data row3 col2\" >         211,292,993</td>\n",
       "                        <td id=\"T_00f83268_4e71_11ea_934d_a0999b19a4f3row3_col3\" class=\"data row3 col3\" >0.52%</td>\n",
       "                        <td id=\"T_00f83268_4e71_11ea_934d_a0999b19a4f3row3_col4\" class=\"data row3 col4\" >24.23%</td>\n",
       "                        <td id=\"T_00f83268_4e71_11ea_934d_a0999b19a4f3row3_col5\" class=\"data row3 col5\" >          12,467,495</td>\n",
       "                        <td id=\"T_00f83268_4e71_11ea_934d_a0999b19a4f3row3_col6\" class=\"data row3 col6\" >             820,406</td>\n",
       "            </tr>\n",
       "            <tr>\n",
       "                        <th id=\"T_00f83268_4e71_11ea_934d_a0999b19a4f3level0_row4\" class=\"row_heading level0 row4\" >4</th>\n",
       "                        <td id=\"T_00f83268_4e71_11ea_934d_a0999b19a4f3row4_col0\" class=\"data row4 col0\" >OCEANIA</td>\n",
       "                        <td id=\"T_00f83268_4e71_11ea_934d_a0999b19a4f3row4_col1\" class=\"data row4 col1\" >2.40559e+06</td>\n",
       "                        <td id=\"T_00f83268_4e71_11ea_934d_a0999b19a4f3row4_col2\" class=\"data row4 col2\" >          29,204,432</td>\n",
       "                        <td id=\"T_00f83268_4e71_11ea_934d_a0999b19a4f3row4_col3\" class=\"data row4 col3\" >0.25%</td>\n",
       "                        <td id=\"T_00f83268_4e71_11ea_934d_a0999b19a4f3row4_col4\" class=\"data row4 col4\" >27.59%</td>\n",
       "                        <td id=\"T_00f83268_4e71_11ea_934d_a0999b19a4f3row4_col5\" class=\"data row4 col5\" >           1,538,164</td>\n",
       "                        <td id=\"T_00f83268_4e71_11ea_934d_a0999b19a4f3row4_col6\" class=\"data row4 col6\" >              85,270</td>\n",
       "            </tr>\n",
       "            <tr>\n",
       "                        <th id=\"T_00f83268_4e71_11ea_934d_a0999b19a4f3level0_row5\" class=\"row_heading level0 row5\" >5</th>\n",
       "                        <td id=\"T_00f83268_4e71_11ea_934d_a0999b19a4f3row5_col0\" class=\"data row5 col0\" >SOUTH AMERICA</td>\n",
       "                        <td id=\"T_00f83268_4e71_11ea_934d_a0999b19a4f3row5_col1\" class=\"data row5 col1\" >3.54592e+07</td>\n",
       "                        <td id=\"T_00f83268_4e71_11ea_934d_a0999b19a4f3row5_col2\" class=\"data row5 col2\" >          96,821,667</td>\n",
       "                        <td id=\"T_00f83268_4e71_11ea_934d_a0999b19a4f3row5_col3\" class=\"data row5 col3\" >1.49%</td>\n",
       "                        <td id=\"T_00f83268_4e71_11ea_934d_a0999b19a4f3row5_col4\" class=\"data row5 col4\" >51.42%</td>\n",
       "                        <td id=\"T_00f83268_4e71_11ea_934d_a0999b19a4f3row5_col5\" class=\"data row5 col5\" >          20,381,686</td>\n",
       "                        <td id=\"T_00f83268_4e71_11ea_934d_a0999b19a4f3row5_col6\" class=\"data row5 col6\" >             485,792</td>\n",
       "            </tr>\n",
       "    </tbody></table>"
      ],
      "text/plain": [
       "<pandas.io.formats.style.Styler at 0x1c186996d8>"
      ]
     },
     "execution_count": 18,
     "metadata": {},
     "output_type": "execute_result"
    }
   ],
   "source": [
    "#Creating a continent view to get mean values per continent\n",
    "\n",
    "continent_df = final_df.pivot_table(index = 'continent_name', values = ['refined_petroleum_consumption_barrels_per_day', \n",
    "                                                         'number_of_internet_users','non_fossil_electricity' \n",
    "                                                         ,'carbon_emissions_from_energy_consumption_MT',\"mili_exp_gdp\", 'Population'], aggfunc = np.mean)\n",
    "\n",
    "\n",
    "\n",
    "continent_df.reset_index(inplace = True)\n",
    "\n",
    "#Styling DataFrame using styler\n",
    "\n",
    "continent_df['mili_exp_gdp'] = continent_df['mili_exp_gdp'].div(100).round(4)\n",
    "continent_df['non_fossil_electricity'] = continent_df['non_fossil_electricity'].div(100).round(4)\n",
    "\n",
    "\n",
    "cdf = continent_df.style.format({'continent_name': str.upper,\n",
    "                           'carbon_emissions_from_energy_consumption_MT': '{:20,.0f}',\"mili_exp_gdp\":'{:.2%}',\n",
    "                          \"number_of_internet_users\":'{:20,.0f}', \"refined_petroleum_consumption_barrels_per_day\":'{:20,.0f}',\"non_fossil_electricity\":'{:.2%}'})\n",
    "\n",
    "cdf"
   ]
  },
  {
   "cell_type": "code",
   "execution_count": 56,
   "metadata": {},
   "outputs": [
    {
     "data": {
      "image/png": "[encoded data removed]",
      "text/plain": [
       "<Figure size 1080x576 with 1 Axes>"
      ]
     },
     "metadata": {
      "needs_background": "light"
     },
     "output_type": "display_data"
    }
   ],
   "source": [
    "plt.figure(figsize=(15,8))\n",
    "sns.set(font_scale=1.5)\n",
    "sns.set_palette(\"Set1\")\n",
    "sns.set_style(\"whitegrid\")\n",
    "sns.boxplot(x='continent_name',y='co2_log',data=final_df)\n",
    "plt.xlabel(\"Continent\")\n",
    "plt.ylabel(\"CO2 Emissions Mega Tons per Year (log)\")\n",
    "plt.title(\"CO2 Emissions by Continent\")\n",
    "# sns.lineplot(x='continent_name',y=final_df['co2_log'].mean(),data=final_df, color='orange')\n",
    "plt.show()"
   ]
  },
  {
   "cell_type": "markdown",
   "metadata": {},
   "source": [
    "# VII. Evaluating Residual Distribution"
   ]
  },
  {
   "cell_type": "code",
   "execution_count": 19,
   "metadata": {
    "scrolled": true
   },
   "outputs": [
    {
     "data": {
      "image/png": "[encoded data removed]",
      "text/plain": [
       "<Figure size 432x288 with 1 Axes>"
      ]
     },
     "metadata": {
      "needs_background": "light"
     },
     "output_type": "display_data"
    }
   ],
   "source": [
    "#CO2 emissions residuals - not displaying normality\n",
    "\n",
    "co2_model = ols(\"carbon_emissions_from_energy_consumption_MT ~ C(continent_name)\", data=final_df).fit()\n",
    "residuals = co2_model.resid\n",
    "fig = sm.graphics.qqplot(residuals, dist=stats.norm, line='45', fit=True)\n",
    "fig.show()"
   ]
  },
  {
   "cell_type": "code",
   "execution_count": 20,
   "metadata": {},
   "outputs": [
    {
     "data": {
      "image/png": "[encoded data removed]",
      "text/plain": [
       "<Figure size 432x288 with 1 Axes>"
      ]
     },
     "metadata": {
      "needs_background": "light"
     },
     "output_type": "display_data"
    }
   ],
   "source": [
    "#Military expenditures residuals - displaying some normality\n",
    "\n",
    "mili_model = ols(\"mili_exp_gdp ~ C(continent_name)\", data=final_df).fit()\n",
    "residuals = mili_model.resid\n",
    "fig = sm.graphics.qqplot(residuals, dist=stats.norm, line='45', fit=True)\n",
    "fig.show()"
   ]
  },
  {
   "cell_type": "code",
   "execution_count": 21,
   "metadata": {},
   "outputs": [
    {
     "data": {
      "image/png": "[encoded data removed]",
      "text/plain": [
       "<Figure size 432x288 with 1 Axes>"
      ]
     },
     "metadata": {
      "needs_background": "light"
     },
     "output_type": "display_data"
    }
   ],
   "source": [
    "#Non-fossil energy prod residuals - displaying normality\n",
    "\n",
    "ele_model = ols(\"non_fossil_electricity ~ C(continent_name)\", data=final_df).fit()\n",
    "residuals = ele_model.resid\n",
    "fig = sm.graphics.qqplot(residuals, dist=stats.norm, line='45', fit=True)\n",
    "fig.show()"
   ]
  },
  {
   "cell_type": "code",
   "execution_count": 22,
   "metadata": {},
   "outputs": [
    {
     "data": {
      "image/png": "[encoded data removed]",
      "text/plain": [
       "<Figure size 432x288 with 1 Axes>"
      ]
     },
     "metadata": {
      "needs_background": "light"
     },
     "output_type": "display_data"
    }
   ],
   "source": [
    "#number of internet users residuals - not displaying normality\n",
    "\n",
    "\n",
    "int_model = ols(\"number_of_internet_users ~ C(continent_name)\", data=final_df).fit()\n",
    "residuals = int_model.resid\n",
    "fig = sm.graphics.qqplot(residuals, dist=stats.norm, line='45', fit=True)\n",
    "fig.show()"
   ]
  },
  {
   "cell_type": "code",
   "execution_count": 23,
   "metadata": {},
   "outputs": [
    {
     "data": {
      "image/png": "[encoded data removed]",
      "text/plain": [
       "<Figure size 432x288 with 1 Axes>"
      ]
     },
     "metadata": {
      "needs_background": "light"
     },
     "output_type": "display_data"
    }
   ],
   "source": [
    "#petrol consumption residuals - not displaying normality\n",
    "\n",
    "petrol_model = ols(\"refined_petroleum_consumption_barrels_per_day ~ C(continent_name)\", data=final_df).fit()\n",
    "residuals = petrol_model.resid\n",
    "fig = sm.graphics.qqplot(residuals, dist=stats.norm, line='45', fit=True)\n",
    "fig.show()"
   ]
  },
  {
   "cell_type": "markdown",
   "metadata": {},
   "source": [
    "# VIII. Variable Transformation - log10"
   ]
  },
  {
   "cell_type": "code",
   "execution_count": 24,
   "metadata": {},
   "outputs": [
    {
     "data": {
      "text/html": [
       "<div>\n",
       "<style scoped>\n",
       "    .dataframe tbody tr th:only-of-type {\n",
       "        vertical-align: middle;\n",
       "    }\n",
       "\n",
       "    .dataframe tbody tr th {\n",
       "        vertical-align: top;\n",
       "    }\n",
       "\n",
       "    .dataframe thead th {\n",
       "        text-align: right;\n",
       "    }\n",
       "</style>\n",
       "<table border=\"1\" class=\"dataframe\">\n",
       "  <thead>\n",
       "    <tr style=\"text-align: right;\">\n",
       "      <th></th>\n",
       "      <th>continent_name</th>\n",
       "      <th>country</th>\n",
       "      <th>Area_sqKm</th>\n",
       "      <th>refined_petroleum_consumption_barrels_per_day</th>\n",
       "      <th>number_of_internet_users</th>\n",
       "      <th>hydro_percentage_of_electricity_production</th>\n",
       "      <th>nuclear_percentage_of_electricity_production</th>\n",
       "      <th>other_renewable_percentage_of_electricity_production</th>\n",
       "      <th>mili_exp_gdp</th>\n",
       "      <th>carbon_emissions_from_energy_consumption_MT</th>\n",
       "      <th>Population</th>\n",
       "      <th>non_fossil_electricity</th>\n",
       "    </tr>\n",
       "  </thead>\n",
       "  <tbody>\n",
       "    <tr>\n",
       "      <th>0</th>\n",
       "      <td>Asia</td>\n",
       "      <td>Afghanistan</td>\n",
       "      <td>652230.0</td>\n",
       "      <td>35000.0</td>\n",
       "      <td>2677502.0</td>\n",
       "      <td>52.0</td>\n",
       "      <td>0.0</td>\n",
       "      <td>4.0</td>\n",
       "      <td>0.99</td>\n",
       "      <td>9067000.0</td>\n",
       "      <td>36643815.0</td>\n",
       "      <td>56.0</td>\n",
       "    </tr>\n",
       "    <tr>\n",
       "      <th>1</th>\n",
       "      <td>Europe</td>\n",
       "      <td>Albania</td>\n",
       "      <td>28748.0</td>\n",
       "      <td>29000.0</td>\n",
       "      <td>2016516.0</td>\n",
       "      <td>95.0</td>\n",
       "      <td>0.0</td>\n",
       "      <td>0.0</td>\n",
       "      <td>1.26</td>\n",
       "      <td>4500000.0</td>\n",
       "      <td>3074579.0</td>\n",
       "      <td>95.0</td>\n",
       "    </tr>\n",
       "  </tbody>\n",
       "</table>\n",
       "</div>"
      ],
      "text/plain": [
       "  continent_name      country  Area_sqKm  \\\n",
       "0           Asia  Afghanistan   652230.0   \n",
       "1         Europe      Albania    28748.0   \n",
       "\n",
       "   refined_petroleum_consumption_barrels_per_day  number_of_internet_users  \\\n",
       "0                                        35000.0                 2677502.0   \n",
       "1                                        29000.0                 2016516.0   \n",
       "\n",
       "   hydro_percentage_of_electricity_production  \\\n",
       "0                                        52.0   \n",
       "1                                        95.0   \n",
       "\n",
       "   nuclear_percentage_of_electricity_production  \\\n",
       "0                                           0.0   \n",
       "1                                           0.0   \n",
       "\n",
       "   other_renewable_percentage_of_electricity_production  mili_exp_gdp  \\\n",
       "0                                                4.0             0.99   \n",
       "1                                                0.0             1.26   \n",
       "\n",
       "   carbon_emissions_from_energy_consumption_MT  Population  \\\n",
       "0                                    9067000.0  36643815.0   \n",
       "1                                    4500000.0   3074579.0   \n",
       "\n",
       "   non_fossil_electricity  \n",
       "0                    56.0  \n",
       "1                    95.0  "
      ]
     },
     "execution_count": 24,
     "metadata": {},
     "output_type": "execute_result"
    }
   ],
   "source": [
    "#View of DataFrame\n",
    "final_df.head(n=2)"
   ]
  },
  {
   "cell_type": "code",
   "execution_count": 25,
   "metadata": {},
   "outputs": [
    {
     "data": {
      "text/html": [
       "<div>\n",
       "<style scoped>\n",
       "    .dataframe tbody tr th:only-of-type {\n",
       "        vertical-align: middle;\n",
       "    }\n",
       "\n",
       "    .dataframe tbody tr th {\n",
       "        vertical-align: top;\n",
       "    }\n",
       "\n",
       "    .dataframe thead th {\n",
       "        text-align: right;\n",
       "    }\n",
       "</style>\n",
       "<table border=\"1\" class=\"dataframe\">\n",
       "  <thead>\n",
       "    <tr style=\"text-align: right;\">\n",
       "      <th></th>\n",
       "      <th>continent_name</th>\n",
       "      <th>country</th>\n",
       "      <th>Area_sqKm</th>\n",
       "      <th>refined_petroleum_consumption_barrels_per_day</th>\n",
       "      <th>number_of_internet_users</th>\n",
       "      <th>hydro_percentage_of_electricity_production</th>\n",
       "      <th>nuclear_percentage_of_electricity_production</th>\n",
       "      <th>other_renewable_percentage_of_electricity_production</th>\n",
       "      <th>mili_exp_gdp</th>\n",
       "      <th>carbon_emissions_from_energy_consumption_MT</th>\n",
       "      <th>Population</th>\n",
       "      <th>non_fossil_electricity</th>\n",
       "    </tr>\n",
       "  </thead>\n",
       "  <tbody>\n",
       "    <tr>\n",
       "      <th>0</th>\n",
       "      <td>Asia</td>\n",
       "      <td>Afghanistan</td>\n",
       "      <td>652230.0</td>\n",
       "      <td>35000.0</td>\n",
       "      <td>2677502.0</td>\n",
       "      <td>52.0</td>\n",
       "      <td>0.0</td>\n",
       "      <td>4.0</td>\n",
       "      <td>99.0</td>\n",
       "      <td>9067000.0</td>\n",
       "      <td>36643815.0</td>\n",
       "      <td>5600.0</td>\n",
       "    </tr>\n",
       "    <tr>\n",
       "      <th>1</th>\n",
       "      <td>Europe</td>\n",
       "      <td>Albania</td>\n",
       "      <td>28748.0</td>\n",
       "      <td>29000.0</td>\n",
       "      <td>2016516.0</td>\n",
       "      <td>95.0</td>\n",
       "      <td>0.0</td>\n",
       "      <td>0.0</td>\n",
       "      <td>126.0</td>\n",
       "      <td>4500000.0</td>\n",
       "      <td>3074579.0</td>\n",
       "      <td>9500.0</td>\n",
       "    </tr>\n",
       "  </tbody>\n",
       "</table>\n",
       "</div>"
      ],
      "text/plain": [
       "  continent_name      country  Area_sqKm  \\\n",
       "0           Asia  Afghanistan   652230.0   \n",
       "1         Europe      Albania    28748.0   \n",
       "\n",
       "   refined_petroleum_consumption_barrels_per_day  number_of_internet_users  \\\n",
       "0                                        35000.0                 2677502.0   \n",
       "1                                        29000.0                 2016516.0   \n",
       "\n",
       "   hydro_percentage_of_electricity_production  \\\n",
       "0                                        52.0   \n",
       "1                                        95.0   \n",
       "\n",
       "   nuclear_percentage_of_electricity_production  \\\n",
       "0                                           0.0   \n",
       "1                                           0.0   \n",
       "\n",
       "   other_renewable_percentage_of_electricity_production  mili_exp_gdp  \\\n",
       "0                                                4.0             99.0   \n",
       "1                                                0.0            126.0   \n",
       "\n",
       "   carbon_emissions_from_energy_consumption_MT  Population  \\\n",
       "0                                    9067000.0  36643815.0   \n",
       "1                                    4500000.0   3074579.0   \n",
       "\n",
       "   non_fossil_electricity  \n",
       "0                  5600.0  \n",
       "1                  9500.0  "
      ]
     },
     "execution_count": 25,
     "metadata": {},
     "output_type": "execute_result"
    }
   ],
   "source": [
    "#increasing percentages to allow for log transformation\n",
    "final_df['mili_exp_gdp'] = final_df['mili_exp_gdp'].round(6) * 100\n",
    "final_df['non_fossil_electricity'] = final_df['non_fossil_electricity'].round(6) * 100\n",
    "final_df.head(n=2)"
   ]
  },
  {
   "cell_type": "code",
   "execution_count": 28,
   "metadata": {},
   "outputs": [
    {
     "data": {
      "text/html": [
       "<div>\n",
       "<style scoped>\n",
       "    .dataframe tbody tr th:only-of-type {\n",
       "        vertical-align: middle;\n",
       "    }\n",
       "\n",
       "    .dataframe tbody tr th {\n",
       "        vertical-align: top;\n",
       "    }\n",
       "\n",
       "    .dataframe thead th {\n",
       "        text-align: right;\n",
       "    }\n",
       "</style>\n",
       "<table border=\"1\" class=\"dataframe\">\n",
       "  <thead>\n",
       "    <tr style=\"text-align: right;\">\n",
       "      <th></th>\n",
       "      <th>continent_name</th>\n",
       "      <th>country</th>\n",
       "      <th>mili_log</th>\n",
       "      <th>co2_log</th>\n",
       "      <th>renew_log</th>\n",
       "      <th>area_log</th>\n",
       "      <th>petrol_log</th>\n",
       "      <th>int_log</th>\n",
       "      <th>pop_log</th>\n",
       "    </tr>\n",
       "  </thead>\n",
       "  <tbody>\n",
       "    <tr>\n",
       "      <th>0</th>\n",
       "      <td>Asia</td>\n",
       "      <td>Afghanistan</td>\n",
       "      <td>1.995635</td>\n",
       "      <td>6.957464</td>\n",
       "      <td>3.748188</td>\n",
       "      <td>5.814401</td>\n",
       "      <td>4.544068</td>\n",
       "      <td>6.427730</td>\n",
       "      <td>7.564001</td>\n",
       "    </tr>\n",
       "    <tr>\n",
       "      <th>1</th>\n",
       "      <td>Europe</td>\n",
       "      <td>Albania</td>\n",
       "      <td>2.100371</td>\n",
       "      <td>6.653213</td>\n",
       "      <td>3.977724</td>\n",
       "      <td>4.458608</td>\n",
       "      <td>4.462398</td>\n",
       "      <td>6.304602</td>\n",
       "      <td>6.487786</td>\n",
       "    </tr>\n",
       "  </tbody>\n",
       "</table>\n",
       "</div>"
      ],
      "text/plain": [
       "  continent_name      country  mili_log   co2_log  renew_log  area_log  \\\n",
       "0           Asia  Afghanistan  1.995635  6.957464   3.748188  5.814401   \n",
       "1         Europe      Albania  2.100371  6.653213   3.977724  4.458608   \n",
       "\n",
       "   petrol_log   int_log   pop_log  \n",
       "0    4.544068  6.427730  7.564001  \n",
       "1    4.462398  6.304602  6.487786  "
      ]
     },
     "execution_count": 28,
     "metadata": {},
     "output_type": "execute_result"
    }
   ],
   "source": [
    "#Applying log transformation and creating a log dataframe / transforming all values for simplicity\n",
    "\n",
    "final_df['mili_log'] = np.log10(final_df['mili_exp_gdp'])\n",
    "final_df['co2_log'] = np.log10(final_df['carbon_emissions_from_energy_consumption_MT'])\n",
    "final_df['renew_log'] = np.log10(final_df['non_fossil_electricity'])\n",
    "final_df['area_log'] = np.log10(final_df['Area_sqKm'])\n",
    "final_df['petrol_log'] = np.log10(final_df['refined_petroleum_consumption_barrels_per_day'])\n",
    "final_df['int_log'] = np.log10(final_df['number_of_internet_users'])\n",
    "final_df['pop_log'] = np.log10(final_df['Population'])\n",
    "\n",
    "log_df = final_df[[\"continent_name\",\"country\",\"mili_log\", \"co2_log\",\"renew_log\",\"area_log\", \"petrol_log\",\"int_log\",'pop_log']].copy()\n",
    "log_df.head(n=2)"
   ]
  },
  {
   "cell_type": "code",
   "execution_count": 30,
   "metadata": {},
   "outputs": [
    {
     "data": {
      "text/html": [
       "<div>\n",
       "<style scoped>\n",
       "    .dataframe tbody tr th:only-of-type {\n",
       "        vertical-align: middle;\n",
       "    }\n",
       "\n",
       "    .dataframe tbody tr th {\n",
       "        vertical-align: top;\n",
       "    }\n",
       "\n",
       "    .dataframe thead th {\n",
       "        text-align: right;\n",
       "    }\n",
       "</style>\n",
       "<table border=\"1\" class=\"dataframe\">\n",
       "  <thead>\n",
       "    <tr style=\"text-align: right;\">\n",
       "      <th></th>\n",
       "      <th>continent_name</th>\n",
       "      <th>country</th>\n",
       "      <th>Area_sqKm</th>\n",
       "      <th>refined_petroleum_consumption_barrels_per_day</th>\n",
       "      <th>number_of_internet_users</th>\n",
       "      <th>hydro_percentage_of_electricity_production</th>\n",
       "      <th>nuclear_percentage_of_electricity_production</th>\n",
       "      <th>other_renewable_percentage_of_electricity_production</th>\n",
       "      <th>mili_exp_gdp</th>\n",
       "      <th>carbon_emissions_from_energy_consumption_MT</th>\n",
       "      <th>Population</th>\n",
       "      <th>non_fossil_electricity</th>\n",
       "      <th>mili_log</th>\n",
       "      <th>co2_log</th>\n",
       "      <th>renew_log</th>\n",
       "      <th>area_log</th>\n",
       "      <th>petrol_log</th>\n",
       "      <th>int_log</th>\n",
       "      <th>pop_log</th>\n",
       "    </tr>\n",
       "  </thead>\n",
       "  <tbody>\n",
       "    <tr>\n",
       "      <th>0</th>\n",
       "      <td>Asia</td>\n",
       "      <td>Afghanistan</td>\n",
       "      <td>652230.0</td>\n",
       "      <td>35000.0</td>\n",
       "      <td>2677502.0</td>\n",
       "      <td>52.0</td>\n",
       "      <td>0.0</td>\n",
       "      <td>4.0</td>\n",
       "      <td>99.0</td>\n",
       "      <td>9067000.0</td>\n",
       "      <td>36643815.0</td>\n",
       "      <td>5600.0</td>\n",
       "      <td>1.995635</td>\n",
       "      <td>6.957464</td>\n",
       "      <td>3.748188</td>\n",
       "      <td>5.814401</td>\n",
       "      <td>4.544068</td>\n",
       "      <td>6.427730</td>\n",
       "      <td>7.564001</td>\n",
       "    </tr>\n",
       "    <tr>\n",
       "      <th>1</th>\n",
       "      <td>Europe</td>\n",
       "      <td>Albania</td>\n",
       "      <td>28748.0</td>\n",
       "      <td>29000.0</td>\n",
       "      <td>2016516.0</td>\n",
       "      <td>95.0</td>\n",
       "      <td>0.0</td>\n",
       "      <td>0.0</td>\n",
       "      <td>126.0</td>\n",
       "      <td>4500000.0</td>\n",
       "      <td>3074579.0</td>\n",
       "      <td>9500.0</td>\n",
       "      <td>2.100371</td>\n",
       "      <td>6.653213</td>\n",
       "      <td>3.977724</td>\n",
       "      <td>4.458608</td>\n",
       "      <td>4.462398</td>\n",
       "      <td>6.304602</td>\n",
       "      <td>6.487786</td>\n",
       "    </tr>\n",
       "  </tbody>\n",
       "</table>\n",
       "</div>"
      ],
      "text/plain": [
       "  continent_name      country  Area_sqKm  \\\n",
       "0           Asia  Afghanistan   652230.0   \n",
       "1         Europe      Albania    28748.0   \n",
       "\n",
       "   refined_petroleum_consumption_barrels_per_day  number_of_internet_users  \\\n",
       "0                                        35000.0                 2677502.0   \n",
       "1                                        29000.0                 2016516.0   \n",
       "\n",
       "   hydro_percentage_of_electricity_production  \\\n",
       "0                                        52.0   \n",
       "1                                        95.0   \n",
       "\n",
       "   nuclear_percentage_of_electricity_production  \\\n",
       "0                                           0.0   \n",
       "1                                           0.0   \n",
       "\n",
       "   other_renewable_percentage_of_electricity_production  mili_exp_gdp  \\\n",
       "0                                                4.0             99.0   \n",
       "1                                                0.0            126.0   \n",
       "\n",
       "   carbon_emissions_from_energy_consumption_MT  Population  \\\n",
       "0                                    9067000.0  36643815.0   \n",
       "1                                    4500000.0   3074579.0   \n",
       "\n",
       "   non_fossil_electricity  mili_log   co2_log  renew_log  area_log  \\\n",
       "0                  5600.0  1.995635  6.957464   3.748188  5.814401   \n",
       "1                  9500.0  2.100371  6.653213   3.977724  4.458608   \n",
       "\n",
       "   petrol_log   int_log   pop_log  \n",
       "0    4.544068  6.427730  7.564001  \n",
       "1    4.462398  6.304602  6.487786  "
      ]
     },
     "execution_count": 30,
     "metadata": {},
     "output_type": "execute_result"
    }
   ],
   "source": [
    "final_df.head(n=2)"
   ]
  },
  {
   "cell_type": "markdown",
   "metadata": {},
   "source": [
    "# VIV. ANOVA tests and Tukey HSD test"
   ]
  },
  {
   "cell_type": "code",
   "execution_count": 33,
   "metadata": {},
   "outputs": [],
   "source": [
    "#Creating ANOVA test results table\n",
    "\n",
    "def anova_table(aov):\n",
    "    aov['mean_sq'] = aov[:]['sum_sq']/aov[:]['df']\n",
    "    aov['eta_sq'] = aov[:-1]['sum_sq']/sum(aov['sum_sq'])\n",
    "    aov['omega_sq'] = (aov[:-1]['sum_sq']-(aov[:-1]['df']*aov['mean_sq'][-1]))/(sum(aov['sum_sq'])+aov['mean_sq'][-1])\n",
    "    cols = ['sum_sq', 'df', 'mean_sq', 'F', 'PR(>F)', 'eta_sq', 'omega_sq']\n",
    "    aov=aov[cols]\n",
    "    return aov"
   ]
  },
  {
   "cell_type": "code",
   "execution_count": 34,
   "metadata": {},
   "outputs": [
    {
     "data": {
      "text/html": [
       "<div>\n",
       "<style scoped>\n",
       "    .dataframe tbody tr th:only-of-type {\n",
       "        vertical-align: middle;\n",
       "    }\n",
       "\n",
       "    .dataframe tbody tr th {\n",
       "        vertical-align: top;\n",
       "    }\n",
       "\n",
       "    .dataframe thead th {\n",
       "        text-align: right;\n",
       "    }\n",
       "</style>\n",
       "<table border=\"1\" class=\"dataframe\">\n",
       "  <thead>\n",
       "    <tr style=\"text-align: right;\">\n",
       "      <th></th>\n",
       "      <th>sum_sq</th>\n",
       "      <th>df</th>\n",
       "      <th>mean_sq</th>\n",
       "      <th>F</th>\n",
       "      <th>PR(&gt;F)</th>\n",
       "      <th>eta_sq</th>\n",
       "      <th>omega_sq</th>\n",
       "    </tr>\n",
       "  </thead>\n",
       "  <tbody>\n",
       "    <tr>\n",
       "      <th>C(continent_name)</th>\n",
       "      <td>5.385153e+18</td>\n",
       "      <td>5.0</td>\n",
       "      <td>1.077031e+18</td>\n",
       "      <td>1.254645</td>\n",
       "      <td>0.285244</td>\n",
       "      <td>0.031168</td>\n",
       "      <td>0.006295</td>\n",
       "    </tr>\n",
       "    <tr>\n",
       "      <th>Residual</th>\n",
       "      <td>1.673947e+20</td>\n",
       "      <td>195.0</td>\n",
       "      <td>8.584344e+17</td>\n",
       "      <td>NaN</td>\n",
       "      <td>NaN</td>\n",
       "      <td>NaN</td>\n",
       "      <td>NaN</td>\n",
       "    </tr>\n",
       "  </tbody>\n",
       "</table>\n",
       "</div>"
      ],
      "text/plain": [
       "                         sum_sq     df       mean_sq         F    PR(>F)  \\\n",
       "C(continent_name)  5.385153e+18    5.0  1.077031e+18  1.254645  0.285244   \n",
       "Residual           1.673947e+20  195.0  8.584344e+17       NaN       NaN   \n",
       "\n",
       "                     eta_sq  omega_sq  \n",
       "C(continent_name)  0.031168  0.006295  \n",
       "Residual                NaN       NaN  "
      ]
     },
     "execution_count": 34,
     "metadata": {},
     "output_type": "execute_result"
    }
   ],
   "source": [
    "#CO2 emissions ANOVA \n",
    "\n",
    "lm = ols('carbon_emissions_from_energy_consumption_MT ~ C(continent_name) ' ,data=final_df).fit()\n",
    "table = sm.stats.anova_lm(lm)\n",
    "anova_table(table)"
   ]
  },
  {
   "cell_type": "code",
   "execution_count": 37,
   "metadata": {},
   "outputs": [
    {
     "name": "stdout",
     "output_type": "stream",
     "text": [
      "                 Multiple Comparison of Means - Tukey HSD,FWER=0.05                \n",
      "===================================================================================\n",
      "    group1        group2        meandiff         lower            upper      reject\n",
      "-----------------------------------------------------------------------------------\n",
      "    Africa         Asia      439147510.2948  -111462131.787   989757152.3766 False \n",
      "    Africa        Europe     117930116.6305 -426538472.4871   662398705.7481 False \n",
      "    Africa    North America  183918252.0869  -428080151.11    795916655.2838 False \n",
      "    Africa       Oceania      1829691.6543  -748813672.1681   752473055.4767 False \n",
      "    Africa    South America  69446925.8503  -789488345.3272   928382197.0279 False \n",
      "     Asia         Europe    -321217393.6643 -877407053.0563   234972265.7277 False \n",
      "     Asia     North America -255229258.2079 -877678403.2747   367219886.859  False \n",
      "     Asia        Oceania    -437317818.6405 -1196505774.5049  321870137.2238 False \n",
      "     Asia     South America -369700584.4444 -1236113126.3387  496711957.4498 False \n",
      "    Europe    North America  65988135.4564  -551035368.7772    683011639.69  False \n",
      "    Europe       Oceania    -116100424.9762 -870846355.0161   638645505.0637 False \n",
      "    Europe    South America  -48483190.7801 -911006094.4378   814039712.8775 False \n",
      "North America    Oceania    -182088560.4326 -986909919.4258   622732798.5605 False \n",
      "North America South America -114471326.2366 -1021136512.6829  792193860.2098 False \n",
      "   Oceania    South America  67617234.1961  -937850405.4865  1073084873.8787 False \n",
      "-----------------------------------------------------------------------------------\n",
      "['Africa' 'Asia' 'Europe' 'North America' 'Oceania' 'South America']\n"
     ]
    }
   ],
   "source": [
    "#CO2 emissions Tukey\n",
    "\n",
    "mc = MultiComparison(final_df['carbon_emissions_from_energy_consumption_MT'], final_df['continent_name'])\n",
    "result = mc.tukeyhsd()\n",
    " \n",
    "print(result)\n",
    "print(mc.groupsunique)"
   ]
  },
  {
   "cell_type": "code",
   "execution_count": 42,
   "metadata": {},
   "outputs": [
    {
     "data": {
      "text/html": [
       "<div>\n",
       "<style scoped>\n",
       "    .dataframe tbody tr th:only-of-type {\n",
       "        vertical-align: middle;\n",
       "    }\n",
       "\n",
       "    .dataframe tbody tr th {\n",
       "        vertical-align: top;\n",
       "    }\n",
       "\n",
       "    .dataframe thead th {\n",
       "        text-align: right;\n",
       "    }\n",
       "</style>\n",
       "<table border=\"1\" class=\"dataframe\">\n",
       "  <thead>\n",
       "    <tr style=\"text-align: right;\">\n",
       "      <th></th>\n",
       "      <th>sum_sq</th>\n",
       "      <th>df</th>\n",
       "      <th>mean_sq</th>\n",
       "      <th>F</th>\n",
       "      <th>PR(&gt;F)</th>\n",
       "      <th>eta_sq</th>\n",
       "      <th>omega_sq</th>\n",
       "    </tr>\n",
       "  </thead>\n",
       "  <tbody>\n",
       "    <tr>\n",
       "      <th>C(continent_name)</th>\n",
       "      <td>1.012863e+06</td>\n",
       "      <td>5.0</td>\n",
       "      <td>202572.551498</td>\n",
       "      <td>12.712826</td>\n",
       "      <td>1.064690e-10</td>\n",
       "      <td>0.245835</td>\n",
       "      <td>0.225625</td>\n",
       "    </tr>\n",
       "    <tr>\n",
       "      <th>Residual</th>\n",
       "      <td>3.107228e+06</td>\n",
       "      <td>195.0</td>\n",
       "      <td>15934.501741</td>\n",
       "      <td>NaN</td>\n",
       "      <td>NaN</td>\n",
       "      <td>NaN</td>\n",
       "      <td>NaN</td>\n",
       "    </tr>\n",
       "  </tbody>\n",
       "</table>\n",
       "</div>"
      ],
      "text/plain": [
       "                         sum_sq     df        mean_sq          F  \\\n",
       "C(continent_name)  1.012863e+06    5.0  202572.551498  12.712826   \n",
       "Residual           3.107228e+06  195.0   15934.501741        NaN   \n",
       "\n",
       "                         PR(>F)    eta_sq  omega_sq  \n",
       "C(continent_name)  1.064690e-10  0.245835  0.225625  \n",
       "Residual                    NaN       NaN       NaN  "
      ]
     },
     "execution_count": 42,
     "metadata": {},
     "output_type": "execute_result"
    }
   ],
   "source": [
    "#Military expenditures ANOVA\n",
    "\n",
    "lm = ols('mili_exp_gdp ~ C(continent_name)' ,data=final_df).fit()\n",
    "table = sm.stats.anova_lm(lm)\n",
    "anova_table(table)"
   ]
  },
  {
   "cell_type": "code",
   "execution_count": 43,
   "metadata": {},
   "outputs": [
    {
     "name": "stdout",
     "output_type": "stream",
     "text": [
      "       Multiple Comparison of Means - Tukey HSD,FWER=0.05       \n",
      "================================================================\n",
      "    group1        group2     meandiff   lower     upper   reject\n",
      "----------------------------------------------------------------\n",
      "    Africa         Asia      106.2086  31.1916   181.2256  True \n",
      "    Africa        Europe     11.8446   -62.3357  86.0248  False \n",
      "    Africa    North America  -91.8308 -175.2116   -8.45    True \n",
      "    Africa       Oceania    -118.4058  -220.676  -16.1355  True \n",
      "    Africa    South America   5.4864  -111.5379  122.5107 False \n",
      "     Asia         Europe     -94.3641 -170.1413  -18.5869  True \n",
      "     Asia     North America -198.0394 -282.8441 -113.2348  True \n",
      "     Asia        Oceania    -224.6144 -328.0488  -121.18   True \n",
      "     Asia     South America -100.7222 -218.7653  17.3208  False \n",
      "    Europe    North America -103.6754 -187.7408  -19.6099  True \n",
      "    Europe       Oceania    -130.2503 -233.0795  -27.4211  True \n",
      "    Europe    South America  -6.3582  -123.8713  111.155  False \n",
      "North America    Oceania     -26.575  -136.2266  83.0767  False \n",
      "North America South America  97.3172    -26.21   220.8444 False \n",
      "   Oceania    South America  123.8922  -13.0962  260.8806 False \n",
      "----------------------------------------------------------------\n",
      "['Africa' 'Asia' 'Europe' 'North America' 'Oceania' 'South America']\n"
     ]
    }
   ],
   "source": [
    "#Military expenditures Tukey\n",
    "\n",
    "mc = MultiComparison(final_df['mili_exp_gdp'], final_df['continent_name'])\n",
    "result = mc.tukeyhsd()\n",
    " \n",
    "print(result)\n",
    "print(mc.groupsunique)"
   ]
  },
  {
   "cell_type": "code",
   "execution_count": 44,
   "metadata": {},
   "outputs": [
    {
     "data": {
      "text/html": [
       "<div>\n",
       "<style scoped>\n",
       "    .dataframe tbody tr th:only-of-type {\n",
       "        vertical-align: middle;\n",
       "    }\n",
       "\n",
       "    .dataframe tbody tr th {\n",
       "        vertical-align: top;\n",
       "    }\n",
       "\n",
       "    .dataframe thead th {\n",
       "        text-align: right;\n",
       "    }\n",
       "</style>\n",
       "<table border=\"1\" class=\"dataframe\">\n",
       "  <thead>\n",
       "    <tr style=\"text-align: right;\">\n",
       "      <th></th>\n",
       "      <th>sum_sq</th>\n",
       "      <th>df</th>\n",
       "      <th>mean_sq</th>\n",
       "      <th>F</th>\n",
       "      <th>PR(&gt;F)</th>\n",
       "      <th>eta_sq</th>\n",
       "      <th>omega_sq</th>\n",
       "    </tr>\n",
       "  </thead>\n",
       "  <tbody>\n",
       "    <tr>\n",
       "      <th>C(continent_name)</th>\n",
       "      <td>2.003674e+08</td>\n",
       "      <td>5.0</td>\n",
       "      <td>4.007349e+07</td>\n",
       "      <td>5.253456</td>\n",
       "      <td>0.00015</td>\n",
       "      <td>0.118713</td>\n",
       "      <td>0.095683</td>\n",
       "    </tr>\n",
       "    <tr>\n",
       "      <th>Residual</th>\n",
       "      <td>1.487465e+09</td>\n",
       "      <td>195.0</td>\n",
       "      <td>7.628024e+06</td>\n",
       "      <td>NaN</td>\n",
       "      <td>NaN</td>\n",
       "      <td>NaN</td>\n",
       "      <td>NaN</td>\n",
       "    </tr>\n",
       "  </tbody>\n",
       "</table>\n",
       "</div>"
      ],
      "text/plain": [
       "                         sum_sq     df       mean_sq         F   PR(>F)  \\\n",
       "C(continent_name)  2.003674e+08    5.0  4.007349e+07  5.253456  0.00015   \n",
       "Residual           1.487465e+09  195.0  7.628024e+06       NaN      NaN   \n",
       "\n",
       "                     eta_sq  omega_sq  \n",
       "C(continent_name)  0.118713  0.095683  \n",
       "Residual                NaN       NaN  "
      ]
     },
     "execution_count": 44,
     "metadata": {},
     "output_type": "execute_result"
    }
   ],
   "source": [
    "#Non-fossil energy production ANOVA\n",
    "\n",
    "lm = ols('non_fossil_electricity ~ C(continent_name) ' ,data=final_df).fit()\n",
    "table = sm.stats.anova_lm(lm)\n",
    "anova_table(table)"
   ]
  },
  {
   "cell_type": "code",
   "execution_count": 41,
   "metadata": {},
   "outputs": [
    {
     "name": "stdout",
     "output_type": "stream",
     "text": [
      "        Multiple Comparison of Means - Tukey HSD,FWER=0.05        \n",
      "==================================================================\n",
      "    group1        group2     meandiff    lower      upper   reject\n",
      "------------------------------------------------------------------\n",
      "    Africa         Asia     -937.0975  -2578.4289  704.2339 False \n",
      "    Africa        Europe    1226.9214  -396.1039  2849.9467 False \n",
      "    Africa    North America -1310.0724 -3134.3997  514.2549 False \n",
      "    Africa       Oceania    -973.8295  -3211.4484 1263.7893 False \n",
      "    Africa    South America 1409.0136  -1151.4164 3969.4436 False \n",
      "     Asia         Europe    2164.0189   506.0538   3821.984  True \n",
      "     Asia     North America -372.9749  -2228.4552 1482.5054 False \n",
      "     Asia        Oceania     -36.732   -2299.8218 2226.3577 False \n",
      "     Asia     South America 2346.1111  -236.6081  4928.8304 False \n",
      "    Europe    North America -2536.9938 -4376.3006  -697.687  True \n",
      "    Europe       Oceania    -2200.7509 -4450.5993  49.0974  False \n",
      "    Europe    South America  182.0922  -2389.0323 2753.2167 False \n",
      "North America    Oceania     336.2429  -2062.8771 2735.3628 False \n",
      "North America South America  2719.086   16.3763   5421.7958  True \n",
      "   Oceania    South America 2382.8431  -614.3903  5380.0765 False \n",
      "------------------------------------------------------------------\n",
      "['Africa' 'Asia' 'Europe' 'North America' 'Oceania' 'South America']\n"
     ]
    }
   ],
   "source": [
    "#Non-fossil energy production Tukey\n",
    "\n",
    "mc = MultiComparison(final_df['non_fossil_electricity'], final_df['continent_name'])\n",
    "result = mc.tukeyhsd()\n",
    " \n",
    "print(result)\n",
    "print(mc.groupsunique)"
   ]
  },
  {
   "cell_type": "code",
   "execution_count": 47,
   "metadata": {},
   "outputs": [
    {
     "data": {
      "text/html": [
       "<div>\n",
       "<style scoped>\n",
       "    .dataframe tbody tr th:only-of-type {\n",
       "        vertical-align: middle;\n",
       "    }\n",
       "\n",
       "    .dataframe tbody tr th {\n",
       "        vertical-align: top;\n",
       "    }\n",
       "\n",
       "    .dataframe thead th {\n",
       "        text-align: right;\n",
       "    }\n",
       "</style>\n",
       "<table border=\"1\" class=\"dataframe\">\n",
       "  <thead>\n",
       "    <tr style=\"text-align: right;\">\n",
       "      <th></th>\n",
       "      <th>sum_sq</th>\n",
       "      <th>df</th>\n",
       "      <th>mean_sq</th>\n",
       "      <th>F</th>\n",
       "      <th>PR(&gt;F)</th>\n",
       "      <th>eta_sq</th>\n",
       "      <th>omega_sq</th>\n",
       "    </tr>\n",
       "  </thead>\n",
       "  <tbody>\n",
       "    <tr>\n",
       "      <th>C(continent_name)</th>\n",
       "      <td>3.496348e+16</td>\n",
       "      <td>5.0</td>\n",
       "      <td>6.992697e+15</td>\n",
       "      <td>1.839229</td>\n",
       "      <td>0.106909</td>\n",
       "      <td>0.045036</td>\n",
       "      <td>0.020449</td>\n",
       "    </tr>\n",
       "    <tr>\n",
       "      <th>Residual</th>\n",
       "      <td>7.413846e+17</td>\n",
       "      <td>195.0</td>\n",
       "      <td>3.801972e+15</td>\n",
       "      <td>NaN</td>\n",
       "      <td>NaN</td>\n",
       "      <td>NaN</td>\n",
       "      <td>NaN</td>\n",
       "    </tr>\n",
       "  </tbody>\n",
       "</table>\n",
       "</div>"
      ],
      "text/plain": [
       "                         sum_sq     df       mean_sq         F    PR(>F)  \\\n",
       "C(continent_name)  3.496348e+16    5.0  6.992697e+15  1.839229  0.106909   \n",
       "Residual           7.413846e+17  195.0  3.801972e+15       NaN       NaN   \n",
       "\n",
       "                     eta_sq  omega_sq  \n",
       "C(continent_name)  0.045036  0.020449  \n",
       "Residual                NaN       NaN  "
      ]
     },
     "execution_count": 47,
     "metadata": {},
     "output_type": "execute_result"
    }
   ],
   "source": [
    "#Internet Users ANOVA\n",
    "\n",
    "lm = ols('number_of_internet_users ~ C(continent_name) ' ,data=final_df).fit()\n",
    "table = sm.stats.anova_lm(lm)\n",
    "anova_table(table)"
   ]
  },
  {
   "cell_type": "code",
   "execution_count": 48,
   "metadata": {},
   "outputs": [
    {
     "name": "stdout",
     "output_type": "stream",
     "text": [
      "              Multiple Comparison of Means - Tukey HSD,FWER=0.05              \n",
      "==============================================================================\n",
      "    group1        group2       meandiff        lower          upper     reject\n",
      "------------------------------------------------------------------------------\n",
      "    Africa         Asia     34037541.5206  -2605771.2267  70680854.2679 False \n",
      "    Africa        Europe     8053351.1854  -28181271.7984 44287974.1693 False \n",
      "    Africa    North America  6599217.2396  -34129544.437  47327978.9162 False \n",
      "    Africa       Oceania     -4330113.563  -54285758.0705 45625530.9444 False \n",
      "    Africa    South America 14513407.6429  -42649110.7112 71675925.9969 False \n",
      "     Asia         Europe    -25984190.3352 -62998855.6775 11030475.0071 False \n",
      "     Asia     North America -27438324.281  -68862587.4046 13985938.8426 False \n",
      "     Asia        Oceania    -38367655.0837 -88891945.9325 12156635.7652 False \n",
      "     Asia     South America -19524133.8778 -77184267.8717 38136000.1162 False \n",
      "    Europe    North America -1454133.9458  -42517318.2964 39609050.4049 False \n",
      "    Europe       Oceania    -12383464.7484 -62612136.8338  37845207.337 False \n",
      "    Europe    South America  6460056.4574  -50941220.4089 63861333.3238 False \n",
      "North America    Oceania    -10929330.8027 -64490544.6088 42631883.0035 False \n",
      "North America South America  7914190.4032  -52424774.709  68253155.5155 False \n",
      "   Oceania    South America 18843521.2059  -48070790.4267 85757832.8385 False \n",
      "------------------------------------------------------------------------------\n",
      "['Africa' 'Asia' 'Europe' 'North America' 'Oceania' 'South America']\n"
     ]
    }
   ],
   "source": [
    "#Internet Users Tukey\n",
    "\n",
    "mc = MultiComparison(final_df['number_of_internet_users'], final_df['continent_name'])\n",
    "result = mc.tukeyhsd()\n",
    " \n",
    "print(result)\n",
    "print(mc.groupsunique)"
   ]
  },
  {
   "cell_type": "code",
   "execution_count": 51,
   "metadata": {},
   "outputs": [
    {
     "data": {
      "text/html": [
       "<div>\n",
       "<style scoped>\n",
       "    .dataframe tbody tr th:only-of-type {\n",
       "        vertical-align: middle;\n",
       "    }\n",
       "\n",
       "    .dataframe tbody tr th {\n",
       "        vertical-align: top;\n",
       "    }\n",
       "\n",
       "    .dataframe thead th {\n",
       "        text-align: right;\n",
       "    }\n",
       "</style>\n",
       "<table border=\"1\" class=\"dataframe\">\n",
       "  <thead>\n",
       "    <tr style=\"text-align: right;\">\n",
       "      <th></th>\n",
       "      <th>sum_sq</th>\n",
       "      <th>df</th>\n",
       "      <th>mean_sq</th>\n",
       "      <th>F</th>\n",
       "      <th>PR(&gt;F)</th>\n",
       "      <th>eta_sq</th>\n",
       "      <th>omega_sq</th>\n",
       "    </tr>\n",
       "  </thead>\n",
       "  <tbody>\n",
       "    <tr>\n",
       "      <th>C(continent_name)</th>\n",
       "      <td>2.003674e+08</td>\n",
       "      <td>5.0</td>\n",
       "      <td>4.007349e+07</td>\n",
       "      <td>5.253456</td>\n",
       "      <td>0.00015</td>\n",
       "      <td>0.118713</td>\n",
       "      <td>0.095683</td>\n",
       "    </tr>\n",
       "    <tr>\n",
       "      <th>Residual</th>\n",
       "      <td>1.487465e+09</td>\n",
       "      <td>195.0</td>\n",
       "      <td>7.628024e+06</td>\n",
       "      <td>NaN</td>\n",
       "      <td>NaN</td>\n",
       "      <td>NaN</td>\n",
       "      <td>NaN</td>\n",
       "    </tr>\n",
       "  </tbody>\n",
       "</table>\n",
       "</div>"
      ],
      "text/plain": [
       "                         sum_sq     df       mean_sq         F   PR(>F)  \\\n",
       "C(continent_name)  2.003674e+08    5.0  4.007349e+07  5.253456  0.00015   \n",
       "Residual           1.487465e+09  195.0  7.628024e+06       NaN      NaN   \n",
       "\n",
       "                     eta_sq  omega_sq  \n",
       "C(continent_name)  0.118713  0.095683  \n",
       "Residual                NaN       NaN  "
      ]
     },
     "execution_count": 51,
     "metadata": {},
     "output_type": "execute_result"
    }
   ],
   "source": [
    "#Petroleum Consumption ANOVA\n",
    "\n",
    "lm = ols('non_fossil_electricity ~ C(continent_name) ' ,data=final_df).fit()\n",
    "table = sm.stats.anova_lm(lm)\n",
    "anova_table(table)"
   ]
  },
  {
   "cell_type": "code",
   "execution_count": 46,
   "metadata": {},
   "outputs": [
    {
     "name": "stdout",
     "output_type": "stream",
     "text": [
      "            Multiple Comparison of Means - Tukey HSD,FWER=0.05            \n",
      "==========================================================================\n",
      "    group1        group2      meandiff       lower        upper     reject\n",
      "--------------------------------------------------------------------------\n",
      "    Africa         Asia     795909.6145   -249316.8862 1841136.1152 False \n",
      "    Africa        Europe    337724.6027   -695844.2901 1371293.4955 False \n",
      "    Africa    North America 742958.2883   -418802.9678 1904719.5444 False \n",
      "    Africa       Oceania     7822.1309   -1417129.9159 1432774.1776 False \n",
      "    Africa    South America 408343.5034  -1222179.9005 2038866.9073 False \n",
      "     Asia         Europe    -458185.0118 -1514004.1021 597634.0785  False \n",
      "     Asia     North America -52951.3262  -1234551.3056 1128648.6533 False \n",
      "     Asia        Oceania    -788087.4837 -2229259.7949 653084.8276  False \n",
      "     Asia     South America -387566.1111 -2032283.6753 1257151.453  False \n",
      "    Europe    North America 405233.6857   -766066.7582 1576534.1295 False \n",
      "    Europe       Oceania    -329902.4718 -1762642.4515 1102837.5078 False \n",
      "    Europe    South America  70618.9007  -1566714.9334 1707952.7348 False \n",
      "North America    Oceania    -735136.1575 -2262934.7074 792662.3924  False \n",
      "North America South America -334614.7849 -2055744.2525 1386514.6827 False \n",
      "   Oceania    South America 400521.3725  -1508165.5488 2309208.2939 False \n",
      "--------------------------------------------------------------------------\n",
      "['Africa' 'Asia' 'Europe' 'North America' 'Oceania' 'South America']\n"
     ]
    }
   ],
   "source": [
    "#Petroleum Consumption Tukey\n",
    "\n",
    "mc = MultiComparison(final_df['refined_petroleum_consumption_barrels_per_day'], final_df['continent_name'])\n",
    "result = mc.tukeyhsd()\n",
    " \n",
    "print(result)\n",
    "print(mc.groupsunique)"
   ]
  },
  {
   "cell_type": "markdown",
   "metadata": {},
   "source": [
    "# X. Bon-Ferroni Correction"
   ]
  },
  {
   "cell_type": "code",
   "execution_count": 55,
   "metadata": {},
   "outputs": [
    {
     "name": "stdout",
     "output_type": "stream",
     "text": [
      "(array([False, False,  True, False,  True]), array([1.0e+00, 1.0e+00, 7.5e-04, 5.3e-01, 7.5e-04]), 0.010206218313011495, 0.01)\n",
      "CO2 Emissions: cannot reject Ho\n",
      "Military Expenditures: cannot reject Ho\n",
      "Non-Fossil Energy: cannot reject Ho\n",
      "Internet Users: cannot reject Ho\n",
      "Petrol Consumption: cannot reject Ho\n"
     ]
    }
   ],
   "source": [
    "from statsmodels.sandbox.stats.multicomp import multipletests\n",
    "pvals = [0.285, 0.245,0.00015, 0.106, 0.00015]\n",
    "# Create a list of the adjusted p-values\n",
    "p_adjusted = multipletests(pvals, alpha= 0.05, method='bonferroni')\n",
    "# Print the resulting conclusions\n",
    "print(p_adjusted)\n",
    "print('CO2 Emissions: cannot reject Ho')\n",
    "print('Military Expenditures: cannot reject Ho')\n",
    "print('Non-Fossil Energy: cannot reject Ho')\n",
    "print('Internet Users: cannot reject Ho')\n",
    "print('Petrol Consumption: cannot reject Ho')"
   ]
  },
  {
   "cell_type": "code",
   "execution_count": null,
   "metadata": {},
   "outputs": [],
   "source": []
  }
 ],
 "metadata": {
  "kernelspec": {
   "display_name": "Python 3",
   "language": "python",
   "name": "python3"
  },
  "language_info": {
   "codemirror_mode": {
    "name": "ipython",
    "version": 3
   },
   "file_extension": ".py",
   "mimetype": "text/x-python",
   "name": "python",
   "nbconvert_exporter": "python",
   "pygments_lexer": "ipython3",
   "version": "3.6.8"
  }
 },
 "nbformat": 4,
 "nbformat_minor": 2
}
